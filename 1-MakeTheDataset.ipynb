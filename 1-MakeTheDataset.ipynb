{
 "cells": [
  {
   "cell_type": "markdown",
   "metadata": {},
   "source": [
    "I want to create a data-driven model to better predict the winners of the current year.\n",
    "The model i want to create uses a region-based Elo rating. <br/>\n",
    "\n",
    "We use a genetic algorithm to learn an elo model where the variable are:\n",
    "- one K constant (positive) for the maximum points gainable/losable per win/lose\n",
    "- a number of C(Region) costant based on the number of regions. Used in the calculation of the Expected Score.<br/>\n",
    "\n",
    "Precisely, the Expected Score for A is equal to E(A) = Q(A)/(Q(A)+Q(B)). <br/>\n",
    "The classic Q(A) function is Q(A) = 10 ^ (R(A)/400), where R(A) represent the Elo rating of the team A. <br/>\n",
    "In our case, instead, it is Q(A;Region) = 10^(R(A)/C(Region)).<br/>\n",
    "The Rating is upgraded using the following formula:<br/>\n",
    "R(A)' = R(A) + K ( S(A) - E(A) ), where the newly introduced S(A) is the score of A. <br/>\n",
    "This mode is used to calculate the most probable results for the Worlds Main Event. Group and Finals <br/>\n",
    "\n",
    "I will add another variable called \"Elo Degradation\" D . This will automatically reduce (or improve, for experimentation) of the elo before the process of upgrading it.<br/>\n",
    "R(A)' = (R(A)) * D + K ( S(A) - E(A) )<br/>\n",
    "Starting Elo is 0, this makes for an easier implementation of both Elo scaling and conversion methods."
   ]
  },
  {
   "cell_type": "code",
   "execution_count": 1,
   "metadata": {},
   "outputs": [],
   "source": [
    "import mwclient"
   ]
  },
  {
   "cell_type": "code",
   "execution_count": 2,
   "metadata": {},
   "outputs": [],
   "source": [
    "site = mwclient.Site('lol.gamepedia.com', path='/')"
   ]
  },
  {
   "cell_type": "markdown",
   "metadata": {},
   "source": [
    "I obtain all of the data I need to create the various worlds dataset"
   ]
  },
  {
   "cell_type": "code",
   "execution_count": 3,
   "metadata": {},
   "outputs": [
    {
     "data": {
      "application/vnd.jupyter.widget-view+json": {
       "model_id": "3c8317550820431a8a931ef6f4f7e811",
       "version_major": 2,
       "version_minor": 0
      },
      "text/plain": [
       "HBox(children=(FloatProgress(value=0.0, max=21.0), HTML(value='')))"
      ]
     },
     "metadata": {},
     "output_type": "display_data"
    },
    {
     "name": "stdout",
     "output_type": "stream",
     "text": [
      "\n"
     ]
    }
   ],
   "source": [
    "from tqdm.notebook import tqdm\n",
    "leagues=['GPL','IWCQ','WCS','LCS','LEC','LCK','LPL','CBLOL','LCL','LJL','LLA','OPL','PCS','VCS','TCL','LMS','LST','NA LCS','EU LCS','LLN','CLS']\n",
    "results = []\n",
    "for league in tqdm(leagues):\n",
    "    off=0\n",
    "    while(True):\n",
    "        response = site.api('cargoquery',\n",
    "                            offset=str(off),\n",
    "                            limit=\"500\",\n",
    "                            tables = \"Tournaments=T, Leagues=L, MatchSchedule=M\",\n",
    "                            fields=\"L.League_Short=League, T.Name=Tournament, M.DateTime_UTC=Date, M.Team1Final=Team1, M.Team2Final=Team2, M.Team1Score, M.Team2Score\",\n",
    "                            where = 'L.League_Short = \"'+league+'\"',\n",
    "                            join_on = \"T.League = L.League, T.OverviewPage=M.OverviewPage\")\n",
    "        results += response[\"cargoquery\"] \n",
    "        off=off+500\n",
    "        if(len(response[\"cargoquery\"])<500): break"
   ]
  },
  {
   "cell_type": "code",
   "execution_count": 4,
   "metadata": {},
   "outputs": [],
   "source": [
    "off=0\n",
    "while(True):\n",
    "        response = site.api('cargoquery',\n",
    "                            offset=str(off),\n",
    "                            limit=\"500\",\n",
    "                            tables = \"Tournaments=T, Leagues=L, MatchSchedule=M\",\n",
    "                            fields=\"T.League, T.Name=Tournament, M.DateTime_UTC=Date, M.Team1Final=Team1, M.Team2Final=Team2, M.Team1Score, M.Team2Score\",\n",
    "                            where = 'T.League = \"League of Legends SEA Tour\"',\n",
    "                            join_on = \"T.League = L.League, T.OverviewPage=M.OverviewPage\")\n",
    "        results += response[\"cargoquery\"] \n",
    "        off=off+500\n",
    "        if(len(response[\"cargoquery\"])<500): break"
   ]
  },
  {
   "cell_type": "code",
   "execution_count": 5,
   "metadata": {},
   "outputs": [],
   "source": [
    "import pandas as pd\n",
    "MatchData = pd.DataFrame ( [ a['title'] for a in results ] )"
   ]
  },
  {
   "cell_type": "code",
   "execution_count": 6,
   "metadata": {},
   "outputs": [],
   "source": [
    "MatchData = MatchData.replace(\"\",float(\"NaN\")).dropna(axis='index', how='any')"
   ]
  },
  {
   "cell_type": "markdown",
   "metadata": {},
   "source": [
    "Make \"date\" easier to process"
   ]
  },
  {
   "cell_type": "code",
   "execution_count": 7,
   "metadata": {},
   "outputs": [],
   "source": [
    "MatchData.sort_values(by=\"Date\",inplace=True)\n",
    "MatchData = MatchData.astype({'Team1Score':'int32','Team2Score':'int32'})"
   ]
  },
  {
   "cell_type": "code",
   "execution_count": 8,
   "metadata": {},
   "outputs": [],
   "source": [
    "MatchData[\"Date\"] = pd.to_datetime(MatchData[\"Date\"], format='%Y-%m-%d %H:%M:%S')"
   ]
  },
  {
   "cell_type": "code",
   "execution_count": 9,
   "metadata": {},
   "outputs": [],
   "source": [
    "MatchData = MatchData.drop(\"Date__precision\", axis=1)"
   ]
  },
  {
   "cell_type": "code",
   "execution_count": 10,
   "metadata": {},
   "outputs": [
    {
     "name": "stderr",
     "output_type": "stream",
     "text": [
      "E:\\Python\\Anaconda3\\lib\\site-packages\\ipykernel_launcher.py:1: SettingWithCopyWarning: \n",
      "A value is trying to be set on a copy of a slice from a DataFrame\n",
      "\n",
      "See the caveats in the documentation: https://pandas.pydata.org/pandas-docs/stable/user_guide/indexing.html#returning-a-view-versus-a-copy\n",
      "  \"\"\"Entry point for launching an IPython kernel.\n"
     ]
    }
   ],
   "source": [
    "MatchData.League[MatchData.League=='League of Legends SEA Tour']=\"LST\""
   ]
  },
  {
   "cell_type": "markdown",
   "metadata": {},
   "source": [
    "Now we need to take the data we need for the learning process. Precisely we will use the matches from the end of the previous World Championship to the end of the analyzed year World Play-Ins for the learning process."
   ]
  },
  {
   "cell_type": "code",
   "execution_count": 11,
   "metadata": {},
   "outputs": [],
   "source": [
    "LearningDates = {\n",
    "    2020:{'PreviousWCSEnd':'2019-11-11 00:00:00','PlayInEnd':'2020-10-01 00:00:00'},  \n",
    "    2019:{'PreviousWCSEnd':'2018-11-04 00:00:00','PlayInEnd':'2019-10-09 00:00:00'},\n",
    "    2018:{'PreviousWCSEnd':'2017-11-05 00:00:00','PlayInEnd':'2018-10-08 00:00:00'},\n",
    "    2017:{'PreviousWCSEnd':'2016-10-30 00:00:00','PlayInEnd':'2017-09-30 00:00:00'}\n",
    "}"
   ]
  },
  {
   "cell_type": "code",
   "execution_count": 12,
   "metadata": {},
   "outputs": [],
   "source": [
    "PerYearMatchData=dict()\n",
    "for date in LearningDates:\n",
    "    PerYearMatchData[date] = MatchData[\n",
    "        (MatchData.Date>LearningDates[date]['PreviousWCSEnd'])&\n",
    "        (MatchData.Date<LearningDates[date]['PlayInEnd'])]"
   ]
  },
  {
   "cell_type": "code",
   "execution_count": 13,
   "metadata": {},
   "outputs": [
    {
     "data": {
      "text/html": [
       "<div>\n",
       "<style scoped>\n",
       "    .dataframe tbody tr th:only-of-type {\n",
       "        vertical-align: middle;\n",
       "    }\n",
       "\n",
       "    .dataframe tbody tr th {\n",
       "        vertical-align: top;\n",
       "    }\n",
       "\n",
       "    .dataframe thead th {\n",
       "        text-align: right;\n",
       "    }\n",
       "</style>\n",
       "<table border=\"1\" class=\"dataframe\">\n",
       "  <thead>\n",
       "    <tr style=\"text-align: right;\">\n",
       "      <th></th>\n",
       "      <th>League</th>\n",
       "      <th>Tournament</th>\n",
       "      <th>Date</th>\n",
       "      <th>Team1</th>\n",
       "      <th>Team2</th>\n",
       "      <th>Team1Score</th>\n",
       "      <th>Team2Score</th>\n",
       "    </tr>\n",
       "  </thead>\n",
       "  <tbody>\n",
       "    <tr>\n",
       "      <th>13922</th>\n",
       "      <td>CLS</td>\n",
       "      <td>CLS 2017 Preseason</td>\n",
       "      <td>2016-11-02 21:00:00</td>\n",
       "      <td>Hafnet eSports</td>\n",
       "      <td>Rebirth eSports</td>\n",
       "      <td>2</td>\n",
       "      <td>3</td>\n",
       "    </tr>\n",
       "    <tr>\n",
       "      <th>13921</th>\n",
       "      <td>CLS</td>\n",
       "      <td>CLS 2017 Preseason</td>\n",
       "      <td>2016-11-02 21:00:00</td>\n",
       "      <td>Hafnet eSports</td>\n",
       "      <td>Rebirth eSports</td>\n",
       "      <td>2</td>\n",
       "      <td>3</td>\n",
       "    </tr>\n",
       "    <tr>\n",
       "      <th>13924</th>\n",
       "      <td>CLS</td>\n",
       "      <td>CLS 2017 Preseason</td>\n",
       "      <td>2016-11-03 21:00:00</td>\n",
       "      <td>Last Kings</td>\n",
       "      <td>Rebirth eSports</td>\n",
       "      <td>3</td>\n",
       "      <td>2</td>\n",
       "    </tr>\n",
       "    <tr>\n",
       "      <th>13923</th>\n",
       "      <td>CLS</td>\n",
       "      <td>CLS 2017 Preseason</td>\n",
       "      <td>2016-11-03 21:00:00</td>\n",
       "      <td>Last Kings</td>\n",
       "      <td>Rebirth eSports</td>\n",
       "      <td>3</td>\n",
       "      <td>2</td>\n",
       "    </tr>\n",
       "    <tr>\n",
       "      <th>13926</th>\n",
       "      <td>CLS</td>\n",
       "      <td>CLS 2017 Preseason</td>\n",
       "      <td>2016-11-04 21:00:00</td>\n",
       "      <td>Kaos Latin Gamers</td>\n",
       "      <td>Last Kings</td>\n",
       "      <td>0</td>\n",
       "      <td>3</td>\n",
       "    </tr>\n",
       "    <tr>\n",
       "      <th>...</th>\n",
       "      <td>...</td>\n",
       "      <td>...</td>\n",
       "      <td>...</td>\n",
       "      <td>...</td>\n",
       "      <td>...</td>\n",
       "      <td>...</td>\n",
       "      <td>...</td>\n",
       "    </tr>\n",
       "    <tr>\n",
       "      <th>1309</th>\n",
       "      <td>WCS</td>\n",
       "      <td>Worlds 2017 Play-In</td>\n",
       "      <td>2017-09-26 11:00:00</td>\n",
       "      <td>Hong Kong Attitude</td>\n",
       "      <td>1907 Fenerbahçe Esports</td>\n",
       "      <td>0</td>\n",
       "      <td>1</td>\n",
       "    </tr>\n",
       "    <tr>\n",
       "      <th>1310</th>\n",
       "      <td>WCS</td>\n",
       "      <td>Worlds 2017 Play-In</td>\n",
       "      <td>2017-09-28 03:00:00</td>\n",
       "      <td>Cloud9</td>\n",
       "      <td>Lyon Gaming (2013 Latin American Team)</td>\n",
       "      <td>3</td>\n",
       "      <td>0</td>\n",
       "    </tr>\n",
       "    <tr>\n",
       "      <th>1311</th>\n",
       "      <td>WCS</td>\n",
       "      <td>Worlds 2017 Play-In</td>\n",
       "      <td>2017-09-28 07:00:00</td>\n",
       "      <td>Fnatic</td>\n",
       "      <td>Hong Kong Attitude</td>\n",
       "      <td>3</td>\n",
       "      <td>0</td>\n",
       "    </tr>\n",
       "    <tr>\n",
       "      <th>1312</th>\n",
       "      <td>WCS</td>\n",
       "      <td>Worlds 2017 Play-In</td>\n",
       "      <td>2017-09-29 03:00:00</td>\n",
       "      <td>1907 Fenerbahçe Esports</td>\n",
       "      <td>Team oNe eSports</td>\n",
       "      <td>3</td>\n",
       "      <td>1</td>\n",
       "    </tr>\n",
       "    <tr>\n",
       "      <th>1313</th>\n",
       "      <td>WCS</td>\n",
       "      <td>Worlds 2017 Play-In</td>\n",
       "      <td>2017-09-29 07:00:00</td>\n",
       "      <td>Team WE</td>\n",
       "      <td>Young Generation</td>\n",
       "      <td>3</td>\n",
       "      <td>0</td>\n",
       "    </tr>\n",
       "  </tbody>\n",
       "</table>\n",
       "<p>1688 rows × 7 columns</p>\n",
       "</div>"
      ],
      "text/plain": [
       "      League           Tournament                Date  \\\n",
       "13922    CLS   CLS 2017 Preseason 2016-11-02 21:00:00   \n",
       "13921    CLS   CLS 2017 Preseason 2016-11-02 21:00:00   \n",
       "13924    CLS   CLS 2017 Preseason 2016-11-03 21:00:00   \n",
       "13923    CLS   CLS 2017 Preseason 2016-11-03 21:00:00   \n",
       "13926    CLS   CLS 2017 Preseason 2016-11-04 21:00:00   \n",
       "...      ...                  ...                 ...   \n",
       "1309     WCS  Worlds 2017 Play-In 2017-09-26 11:00:00   \n",
       "1310     WCS  Worlds 2017 Play-In 2017-09-28 03:00:00   \n",
       "1311     WCS  Worlds 2017 Play-In 2017-09-28 07:00:00   \n",
       "1312     WCS  Worlds 2017 Play-In 2017-09-29 03:00:00   \n",
       "1313     WCS  Worlds 2017 Play-In 2017-09-29 07:00:00   \n",
       "\n",
       "                         Team1                                   Team2  \\\n",
       "13922           Hafnet eSports                         Rebirth eSports   \n",
       "13921           Hafnet eSports                         Rebirth eSports   \n",
       "13924               Last Kings                         Rebirth eSports   \n",
       "13923               Last Kings                         Rebirth eSports   \n",
       "13926        Kaos Latin Gamers                              Last Kings   \n",
       "...                        ...                                     ...   \n",
       "1309        Hong Kong Attitude                 1907 Fenerbahçe Esports   \n",
       "1310                    Cloud9  Lyon Gaming (2013 Latin American Team)   \n",
       "1311                    Fnatic                      Hong Kong Attitude   \n",
       "1312   1907 Fenerbahçe Esports                        Team oNe eSports   \n",
       "1313                   Team WE                        Young Generation   \n",
       "\n",
       "       Team1Score  Team2Score  \n",
       "13922           2           3  \n",
       "13921           2           3  \n",
       "13924           3           2  \n",
       "13923           3           2  \n",
       "13926           0           3  \n",
       "...           ...         ...  \n",
       "1309            0           1  \n",
       "1310            3           0  \n",
       "1311            3           0  \n",
       "1312            3           1  \n",
       "1313            3           0  \n",
       "\n",
       "[1688 rows x 7 columns]"
      ]
     },
     "execution_count": 13,
     "metadata": {},
     "output_type": "execute_result"
    }
   ],
   "source": [
    "PerYearMatchData[2017]"
   ]
  },
  {
   "cell_type": "markdown",
   "metadata": {},
   "source": [
    "The leagues appearing in the dataset are"
   ]
  },
  {
   "cell_type": "code",
   "execution_count": 14,
   "metadata": {},
   "outputs": [
    {
     "data": {
      "text/plain": [
       "array(['WCS', 'GPL', 'NA LCS', 'EU LCS', 'LPL', 'TCL', 'LJL', 'CBLOL',\n",
       "       'LMS', 'OPL', 'CLS', 'LCK', 'LCL', 'LLN', 'IWCQ', 'VCS', 'LEC',\n",
       "       'LLA', 'LCS', 'LST', 'PCS'], dtype=object)"
      ]
     },
     "execution_count": 14,
     "metadata": {},
     "output_type": "execute_result"
    }
   ],
   "source": [
    "MatchData[\"League\"].unique()"
   ]
  },
  {
   "cell_type": "code",
   "execution_count": 15,
   "metadata": {},
   "outputs": [
    {
     "data": {
      "text/plain": [
       "array(['VCS', 'LPL', 'LEC', 'CBLOL', 'LCS', 'OPL', 'TCL', 'LCK', 'LJL',\n",
       "       'LLA', 'LCL', 'PCS', 'WCS'], dtype=object)"
      ]
     },
     "execution_count": 15,
     "metadata": {},
     "output_type": "execute_result"
    }
   ],
   "source": [
    "PerYearMatchData[2020][\"League\"].unique()"
   ]
  },
  {
   "cell_type": "markdown",
   "metadata": {},
   "source": [
    "We will use the first League a team appears in to decide the \"League\" it is part of. \n",
    "For the compatibility from 2017 to 2020 World Championships we need to alias many of those leagues like this:<br/>\n",
    "\"LCS\" <- \"NA LCLS\"<br/>\n",
    "\"LEC\" <- \"EU LCS\"<br/>\n",
    "\"LCK\"<br/>\n",
    "\"LPL\"<br/>\n",
    "\"CBLOL\"<br/>\n",
    "\"LCL\"<br/>\n",
    "\"LJL\"<br/>\n",
    "\"LLA\" <- \"LLN\" and \"CLS\"<br/>\n",
    "\"OPL\"<br/>\n",
    "\"PCS\" <- \"VCS\"(was with GPL during 2017), \"LMS\", \"LST\" and \"GPL\"\n",
    "\"TCL\" \n",
    "       "
   ]
  },
  {
   "cell_type": "code",
   "execution_count": 16,
   "metadata": {},
   "outputs": [],
   "source": [
    "alias = {\n",
    "    'GPL': 'PCS', \n",
    "    'NA LCS': 'LCS', \n",
    "    'EU LCS': 'LEC', \n",
    "    'LPL': 'LPL', \n",
    "    'TCL': 'PCS', \n",
    "    'LJL': 'LJL', \n",
    "    'CBLOL': 'CBLOL',\n",
    "    'LMS': 'PCS', \n",
    "    'OPL': 'OPL', \n",
    "    'CLS': 'LLA', \n",
    "    'LCK': 'LCK', \n",
    "    'LCL': 'LCL', \n",
    "    'LLN': 'LLA', \n",
    "    'VCS': 'PCS', \n",
    "    'LEC': 'LEC',\n",
    "    'LLA': 'LLA', \n",
    "    'LCS': 'LCS', \n",
    "    'PCS': 'PCS',\n",
    "    'LST': 'PCS'\n",
    "}\n",
    "regions = list(set([alias[name] for name in alias]))\n",
    "\n"
   ]
  },
  {
   "cell_type": "code",
   "execution_count": 17,
   "metadata": {},
   "outputs": [],
   "source": [
    "regions_dict = {regions[i]:i for i in range(len(regions))}\n",
    "regions_indexes = {region:regions_dict[alias[region]] for region in alias}"
   ]
  },
  {
   "cell_type": "markdown",
   "metadata": {},
   "source": [
    "We should create the Worlds dataset to be used at the end of the calculations to verify our Region-based elo models. Before i didn't take the \"Group\" column, which can be used to infer the results of the various groups."
   ]
  },
  {
   "cell_type": "code",
   "execution_count": 18,
   "metadata": {},
   "outputs": [],
   "source": [
    "WorldsData=dict()\n",
    "GroupsData=dict()\n",
    "for year in [2017,2018,2019,2020]:\n",
    "    response = site.api('cargoquery',\n",
    "                        limit=\"max\",\n",
    "                        tables = \"MatchSchedule=M\",\n",
    "                        fields=\"M.Team1Final=Team1, M.Team2Final=Team2, M.Team1Score, M.Team2Score, M.Tab\",\n",
    "                        where = 'M.OverviewPage = \"'+str(year)+' Season World Championship/Main Event\"')\n",
    "    WorldsData[year] = pd.DataFrame ( [ a['title'] for a in response['cargoquery'] ] )\n",
    "    response = site.api('cargoquery',\n",
    "                        limit=\"max\",\n",
    "                        tables = \"TournamentGroups=T\",\n",
    "                        fields=\"T.Team, T.GroupName\",\n",
    "                        where = 'T.OverviewPage = \"'+str(year)+' Season World Championship/Main Event\"')\n",
    "    GroupsData[year] = pd.DataFrame ( [ a['title'] for a in response['cargoquery'] ] )"
   ]
  },
  {
   "cell_type": "code",
   "execution_count": 19,
   "metadata": {},
   "outputs": [
    {
     "data": {
      "text/html": [
       "<div>\n",
       "<style scoped>\n",
       "    .dataframe tbody tr th:only-of-type {\n",
       "        vertical-align: middle;\n",
       "    }\n",
       "\n",
       "    .dataframe tbody tr th {\n",
       "        vertical-align: top;\n",
       "    }\n",
       "\n",
       "    .dataframe thead th {\n",
       "        text-align: right;\n",
       "    }\n",
       "</style>\n",
       "<table border=\"1\" class=\"dataframe\">\n",
       "  <thead>\n",
       "    <tr style=\"text-align: right;\">\n",
       "      <th></th>\n",
       "      <th>Team</th>\n",
       "      <th>GroupName</th>\n",
       "    </tr>\n",
       "  </thead>\n",
       "  <tbody>\n",
       "    <tr>\n",
       "      <th>0</th>\n",
       "      <td>ahq eSports Club</td>\n",
       "      <td>Group D</td>\n",
       "    </tr>\n",
       "    <tr>\n",
       "      <th>1</th>\n",
       "      <td>Cloud9</td>\n",
       "      <td>Group A</td>\n",
       "    </tr>\n",
       "    <tr>\n",
       "      <th>2</th>\n",
       "      <td>Clutch Gaming</td>\n",
       "      <td>Group C</td>\n",
       "    </tr>\n",
       "    <tr>\n",
       "      <th>3</th>\n",
       "      <td>DAMWON Gaming</td>\n",
       "      <td>Group D</td>\n",
       "    </tr>\n",
       "    <tr>\n",
       "      <th>4</th>\n",
       "      <td>Fnatic</td>\n",
       "      <td>Group C</td>\n",
       "    </tr>\n",
       "    <tr>\n",
       "      <th>5</th>\n",
       "      <td>FunPlus Phoenix</td>\n",
       "      <td>Group B</td>\n",
       "    </tr>\n",
       "    <tr>\n",
       "      <th>6</th>\n",
       "      <td>G2 Esports</td>\n",
       "      <td>Group A</td>\n",
       "    </tr>\n",
       "    <tr>\n",
       "      <th>7</th>\n",
       "      <td>GAM Esports</td>\n",
       "      <td>Group B</td>\n",
       "    </tr>\n",
       "    <tr>\n",
       "      <th>8</th>\n",
       "      <td>Griffin</td>\n",
       "      <td>Group A</td>\n",
       "    </tr>\n",
       "    <tr>\n",
       "      <th>9</th>\n",
       "      <td>Hong Kong Attitude</td>\n",
       "      <td>Group A</td>\n",
       "    </tr>\n",
       "    <tr>\n",
       "      <th>10</th>\n",
       "      <td>Invictus Gaming</td>\n",
       "      <td>Group D</td>\n",
       "    </tr>\n",
       "    <tr>\n",
       "      <th>11</th>\n",
       "      <td>J Team</td>\n",
       "      <td>Group B</td>\n",
       "    </tr>\n",
       "    <tr>\n",
       "      <th>12</th>\n",
       "      <td>Royal Never Give Up</td>\n",
       "      <td>Group C</td>\n",
       "    </tr>\n",
       "    <tr>\n",
       "      <th>13</th>\n",
       "      <td>SK Telecom T1</td>\n",
       "      <td>Group C</td>\n",
       "    </tr>\n",
       "    <tr>\n",
       "      <th>14</th>\n",
       "      <td>Splyce</td>\n",
       "      <td>Group B</td>\n",
       "    </tr>\n",
       "    <tr>\n",
       "      <th>15</th>\n",
       "      <td>Team Liquid</td>\n",
       "      <td>Group D</td>\n",
       "    </tr>\n",
       "  </tbody>\n",
       "</table>\n",
       "</div>"
      ],
      "text/plain": [
       "                   Team GroupName\n",
       "0      ahq eSports Club   Group D\n",
       "1                Cloud9   Group A\n",
       "2         Clutch Gaming   Group C\n",
       "3         DAMWON Gaming   Group D\n",
       "4                Fnatic   Group C\n",
       "5       FunPlus Phoenix   Group B\n",
       "6            G2 Esports   Group A\n",
       "7           GAM Esports   Group B\n",
       "8               Griffin   Group A\n",
       "9    Hong Kong Attitude   Group A\n",
       "10      Invictus Gaming   Group D\n",
       "11               J Team   Group B\n",
       "12  Royal Never Give Up   Group C\n",
       "13        SK Telecom T1   Group C\n",
       "14               Splyce   Group B\n",
       "15          Team Liquid   Group D"
      ]
     },
     "execution_count": 19,
     "metadata": {},
     "output_type": "execute_result"
    }
   ],
   "source": [
    "GroupsData[2019]"
   ]
  },
  {
   "cell_type": "code",
   "execution_count": 20,
   "metadata": {},
   "outputs": [],
   "source": [
    "def WhoWon(row):\n",
    "    if row[\"Team1Score\"]>row[\"Team2Score\"]: return row[\"Team1\"]\n",
    "    else: return row[\"Team2\"]"
   ]
  },
  {
   "cell_type": "code",
   "execution_count": 92,
   "metadata": {},
   "outputs": [
    {
     "name": "stderr",
     "output_type": "stream",
     "text": [
      "E:\\Python\\Anaconda3\\lib\\site-packages\\ipykernel_launcher.py:8: SettingWithCopyWarning: \n",
      "A value is trying to be set on a copy of a slice from a DataFrame\n",
      "\n",
      "See the caveats in the documentation: https://pandas.pydata.org/pandas-docs/stable/user_guide/indexing.html#returning-a-view-versus-a-copy\n",
      "  \n",
      "E:\\Python\\Anaconda3\\lib\\site-packages\\ipykernel_launcher.py:8: SettingWithCopyWarning: \n",
      "A value is trying to be set on a copy of a slice from a DataFrame\n",
      "\n",
      "See the caveats in the documentation: https://pandas.pydata.org/pandas-docs/stable/user_guide/indexing.html#returning-a-view-versus-a-copy\n",
      "  \n",
      "E:\\Python\\Anaconda3\\lib\\site-packages\\ipykernel_launcher.py:8: SettingWithCopyWarning: \n",
      "A value is trying to be set on a copy of a slice from a DataFrame\n",
      "\n",
      "See the caveats in the documentation: https://pandas.pydata.org/pandas-docs/stable/user_guide/indexing.html#returning-a-view-versus-a-copy\n",
      "  \n",
      "E:\\Python\\Anaconda3\\lib\\site-packages\\ipykernel_launcher.py:8: SettingWithCopyWarning: \n",
      "A value is trying to be set on a copy of a slice from a DataFrame\n",
      "\n",
      "See the caveats in the documentation: https://pandas.pydata.org/pandas-docs/stable/user_guide/indexing.html#returning-a-view-versus-a-copy\n",
      "  \n"
     ]
    }
   ],
   "source": [
    "FinalPlayOff = dict() # Will contain the matches for the final play-off\n",
    "for year in [2017,2018,2019,2020]:\n",
    "    GroupsData[year][\"Wins\"] = 0\n",
    "    FinalPlayOff[year] = pd.DataFrame([], columns=WorldsData[year].columns)\n",
    "    for index,row in WorldsData[year].iterrows():\n",
    "        if (row.Tab not in ['Quarterfinals', 'Semifinals', 'Finals']):\n",
    "            winner_row = GroupsData[year].Team == WhoWon(row)\n",
    "            GroupsData[year].Wins[winner_row] += 1\n",
    "        else:\n",
    "            FinalPlayOff[year] = FinalPlayOff[year].append(row)\n",
    "    FinalPlayOff[year][\"Winner\"] = FinalPlayOff[year].apply(WhoWon,axis=1)"
   ]
  },
  {
   "cell_type": "code",
   "execution_count": 207,
   "metadata": {},
   "outputs": [],
   "source": [
    "import numpy as np\n",
    "class EloRating:\n",
    "    def __init__(self,K,C,D,starting_elo=0):\n",
    "        self.K = max(K,1) # Maximum Elo variation\n",
    "        self.C = C # Regional Elo correction constant\n",
    "        self.D = D # Elo degradation constant\n",
    "        self.start = starting_elo\n",
    "    def RealElo(self, Rating, Region):\n",
    "        return Rating/self.C[Region]*400\n",
    "    def E(self,RatingA, RatingB, RegionA, RegionB):\n",
    "        return 1/(1+10**(RatingB/self.C[RegionB]-RatingA/self.C[RegionA]))\n",
    "    def updateRating(self, RatingA, RatingB, RegionA, RegionB, ScoreA):\n",
    "        E_A = self.E(RatingA, RatingB, RegionA, RegionB)\n",
    "        return self.D * (RatingA - self.start) + self.K * (ScoreA - E_A)"
   ]
  },
  {
   "cell_type": "code",
   "execution_count": 205,
   "metadata": {},
   "outputs": [],
   "source": [
    "import copy\n",
    "class FloatArrayGene:\n",
    "    def __init__(self, distributions):\n",
    "        self.dists = distributions\n",
    "        self.genes = np.array([dist['fun'](*dist['args']) for dist in distributions])\n",
    "\n",
    "class Mutation:\n",
    "    def __init__(self): \n",
    "        pass\n",
    "    def mutate(self, gene, **kwargs):\n",
    "        return gene\n",
    "    \n",
    "class MirrorMutation(Mutation):\n",
    "    def __init__(self, mid): #mid is the middle point\n",
    "        self.midPoint = mid\n",
    "    def mutate(self, gene, mp=0.5, di=2): #mp is mutation probability, di a distribution index\n",
    "        select = np.random.random(len(gene.genes))<mp\n",
    "        new_gene = copy.deepcopy(gene)\n",
    "        new_gene.genes[select] = self.midPoint[select] - di*np.random.random()*( gene.genes[select] - self.midPoint[select]) \n",
    "        return new_gene\n",
    "    \n",
    "class Crossover:\n",
    "    def __init__(self): \n",
    "        pass\n",
    "    def mutate(self,geneA, geneB, **kwargs):\n",
    "        return geneA\n",
    "    \n",
    "class GeneFlipCrossover(Crossover):\n",
    "    def __init__(self): \n",
    "        pass\n",
    "    def cross(self, geneA, geneB, cxp=0.5): \n",
    "        select = np.random.random(len(geneA.genes))<cxp \n",
    "        new_gene_A = copy.deepcopy(geneA)\n",
    "        new_gene_A.genes[select] = geneB.genes[select]\n",
    "        return new_gene_A"
   ]
  },
  {
   "cell_type": "code",
   "execution_count": 206,
   "metadata": {},
   "outputs": [],
   "source": [
    "import numpy as np\n",
    "# Known K are 26,30(Chess), 258(NFL)\n",
    "elo_gene_distr = [{'fun':np.random.uniform, 'args': [1,500]}] \n",
    "# Known C is 400. Let's move from it, but stay around it\n",
    "elo_gene_distr += [{'fun':np.random.normal, 'args': [400,80]}]*len(regions) \n",
    "# Known D is 1. Let's move from it, but stay around it\n",
    "elo_gene_distr += [{'fun':np.random.normal, 'args': [1,0.1]}] "
   ]
  },
  {
   "cell_type": "markdown",
   "metadata": {},
   "source": [
    "I'm creating the function to evalueate an Elo Model now"
   ]
  },
  {
   "cell_type": "code",
   "execution_count": 213,
   "metadata": {},
   "outputs": [],
   "source": [
    "from collections import defaultdict\n",
    "def Score(row):\n",
    "    return row[\"Team1Score\"]/(row[\"Team1Score\"]+row[\"Team2Score\"])\n",
    "\n",
    "def WhoWonElo(row):\n",
    "    if row[\"Team1Elo\"]>row[\"Team2Elo\"]: return row[\"Team1\"]\n",
    "    else: return row[\"Team2\"]\n",
    "class EvaluateElo:\n",
    "    def __init__ (self, matchData, groupData, finalPlayOff, region_indexes):\n",
    "        self.matches = matchData.sort_values(by=\"Date\")\n",
    "        self.matches[\"NormScore\"] = self.matches.apply(Score,axis=1)\n",
    "        self.groups = groupData\n",
    "        self.playoff = finalPlayOff\n",
    "        self.region_indexes = region_indexes\n",
    "    def evaluate(self, EloModel):\n",
    "        self.Rating = dict()\n",
    "        self.League = dict()\n",
    "        #Calculate ELO ratings\n",
    "        for index, row in self.matches.iterrows():\n",
    "            if(row.Team1 not in self.League): \n",
    "                self.League[row.Team1] = row.League\n",
    "                self.Rating[row.Team1] = 0\n",
    "            if(row.Team2 not in self.League): \n",
    "                self.League[row.Team2] = row.League\n",
    "                self.Rating[row.Team2] = 0\n",
    "            self.Rating[row.Team1] = EloModel.updateRating(self.Rating[row.Team1],\n",
    "                                                          self.Rating[row.Team2],\n",
    "                                                          self.region_indexes[self.League[row.Team1]],\n",
    "                                                          self.region_indexes[self.League[row.Team2]],\n",
    "                                                          row[\"NormScore\"])\n",
    "            self.Rating[row.Team2] = EloModel.updateRating(self.Rating[row.Team2],\n",
    "                                                          self.Rating[row.Team1],\n",
    "                                                          self.region_indexes[self.League[row.Team2]],\n",
    "                                                          self.region_indexes[self.League[row.Team1]],\n",
    "                                                          1-row[\"NormScore\"])\n",
    "        score = 0\n",
    "        #Scoring - Group Stage\n",
    "        Groups = self.groups[\"GroupName\"].unique()\n",
    "        RealElo = lambda x: EloModel.RealElo(self.Rating[x],self.region_indexes[self.League[x]])\n",
    "        self.groups[\"Elo\"]=self.groups[\"Team\"].apply(RealElo)\n",
    "        for group in Groups:\n",
    "            analyzedGroup = self.groups[self.groups.GroupName==group].sort_values(by=\"Wins\", ascending=False)\n",
    "            real = analyzedGroup.Team.to_numpy()\n",
    "            expected = analyzedGroup.sort_values(by=\"Elo\", ascending=False).Team.to_numpy()\n",
    "            score += np.sum(( real == expected )*[3,3,2,2]) + 2*len(np.intersect1d(real[:2],expected[:2]))\n",
    "            #Number of people who passed \n",
    "        pointValue=5\n",
    "        self.playoff[\"Team1Elo\"] = self.playoff[\"Team1\"].apply(RealElo)\n",
    "        self.playoff[\"Team2Elo\"] = self.playoff[\"Team2\"].apply(RealElo)\n",
    "        self.playoff[\"RealWinner\"] = self.playoff.apply(WhoWon,axis=1)\n",
    "        self.playoff[\"ExpectedWinner\"] = self.playoff.apply(WhoWonElo,axis=1)\n",
    "        value = {\"Quarterfinals\":5,\"Semifinals\":10,\"Finals\":20}\n",
    "        self.playoff[\"Value\"] = self.playoff[\"Tab\"].apply(lambda x: value[x])\n",
    "        score+=self.playoff[\"Value\"][self.playoff[\"RealWinner\"]==self.playoff[\"ExpectedWinner\"]].sum()\n",
    "        return score"
   ]
  },
  {
   "cell_type": "code",
   "execution_count": 214,
   "metadata": {},
   "outputs": [],
   "source": [
    "class LoLEloFitnessEvaluation:\n",
    "    def __init__ (self, matchData, groupData, finalPlayOff, region_indexes, years):\n",
    "        self.raters = [ EvaluateElo(matchData[year],\n",
    "                                    groupData[year],\n",
    "                                    finalPlayOff[year],\n",
    "                                    region_indexes) for year in years]\n",
    "    def evaluate(self, individual):\n",
    "        eloModel = EloRating(individual.genes[0], individual.genes[1:-1], individual.genes[-1])\n",
    "        return np.sum([rater.evaluate(eloModel) for rater in self.raters])\n",
    "        "
   ]
  },
  {
   "cell_type": "markdown",
   "metadata": {},
   "source": [
    " Now the the evaluation function is present, we can proceed to write the code for the genetic algorithm. "
   ]
  },
  {
   "cell_type": "code",
   "execution_count": 215,
   "metadata": {},
   "outputs": [],
   "source": [
    "class EliteSelection:\n",
    "    def __init__(self):\n",
    "        pass\n",
    "    def select(self, fitnesses, n):\n",
    "        return np.argsort(fitnesses)[::-1][0:n]\n",
    "\n",
    "class RouletteWheelSelection:\n",
    "    def __init__(self):\n",
    "        pass\n",
    "    def select(self, fitnesses, n):\n",
    "        weights = np.divide (fitnesses,np.sum(fitnesses))\n",
    "        return np.random.choice(np.arange(0,len(fitnesses)),size=n, p=weights)\n",
    "    \n",
    "class AdaptiveGeneticAlgorithm:\n",
    "    def __init__ (self, PopulationGene, SurvivingSelection, ParentsSelection, Mutation, Crossover, FitnessEvaluator):\n",
    "        self.PopulationGene = PopulationGene\n",
    "        self.SurvivingSelection = SurvivingSelection\n",
    "        self.ParentsSelection = ParentsSelection\n",
    "        self.Mutation = Mutation\n",
    "        self.Crossover = Crossover\n",
    "        self.Fitness = FitnessEvaluator\n",
    "    def evolve(self, total_population, generations=10, adaptiveMutationCrossover=True, startingMutationProb = 0.5, startingCrossoverProb = 1.0):\n",
    "        #Initialize individuals\n",
    "        individuals = np.array([self.PopulationGene() for i in range(total_population)])\n",
    "        mutation = startingMutationProb\n",
    "        crossover = startingCrossoverProb\n",
    "        #Calculate fitnesses\n",
    "        print(\"evaluating Starting Pop fitness\")\n",
    "        fitnesses = np.array([self.Fitness.evaluate(individual) for individual in tqdm(individuals)])\n",
    "        order = np.argsort(fitnesses)[::-1]\n",
    "        fitnesses = fitnesses[order]\n",
    "        individuals = individuals[order]\n",
    "        self.best_individual = individuals[0]\n",
    "        self.best_fitness = fitnesses[0]\n",
    "        fitness_historical = np.array(self.best_fitness)\n",
    "        n_gen=0\n",
    "        while(n_gen<generations):\n",
    "            print(\"Generation \"+str(n_gen)+\" Best Fitness \"+str(self.best_fitness))\n",
    "            new_individuals_mutation = int(total_population*mutation)\n",
    "            new_individuals_crossover = int(total_population*crossover)\n",
    "            new_individuals = np.zeros(new_individuals_crossover+new_individuals_mutation, dtype=np.object)\n",
    "            parents = self.ParentsSelection.select(fitnesses, new_individuals_mutation+2*new_individuals_crossover)\n",
    "            #Create individuals using Mutation\n",
    "            new_individuals[0:new_individuals_mutation] = [\n",
    "                self.Mutation.mutate(individuals[parents[i]]) for i in range(new_individuals_mutation)]\n",
    "            #Create individuals using Crossover\n",
    "            new_individuals[new_individuals_mutation:] = [\n",
    "                self.Crossover.cross(individuals[parents[new_individuals_mutation+2*i]],\n",
    "                                     individuals[parents[new_individuals_mutation+2*i+1]]) for i in range(new_individuals_crossover)]\n",
    "            #Calculate fitnesses\n",
    "            print(\"evaluating New Pop fitness\")\n",
    "            new_fitnesses = np.array([self.Fitness.evaluate(individual) for individual in tqdm(new_individuals)])\n",
    "            #Select survivors\n",
    "            individuals = np.append(individuals, new_individuals)\n",
    "            fitnesses = np.append(fitnesses, new_fitnesses)\n",
    "            select = self.SurvivingSelection.select(fitnesses, total_population)\n",
    "            fitnesses = fitnesses[select]\n",
    "            individuals = individuals[select]\n",
    "            if(fitnesses[0]>self.best_fitness):\n",
    "                \n",
    "                self.best_individual = individuals[0]\n",
    "                self.best_fitness = fitnesses[0]\n",
    "            fitness_historical=np.append(fitness_historical, self.best_fitness)\n",
    "            if(adaptiveMutationCrossover):\n",
    "                non_stagnation = self.best_fitness/np.mean(fitness_historical[::-1][0:5])\n",
    "                mutation = startingMutationProb + non_stagnation*(startingCrossoverProb-startingMutationProb)\n",
    "                crossover = startingCrossoverProb - non_stagnation*(startingCrossoverProb-startingMutationProb)\n",
    "            n_gen+=1\n",
    "        "
   ]
  },
  {
   "cell_type": "code",
   "execution_count": 216,
   "metadata": {},
   "outputs": [],
   "source": [
    "aga = AdaptiveGeneticAlgorithm(\n",
    "    lambda : FloatArrayGene(elo_gene_distr),\n",
    "    EliteSelection(), #Selecting \n",
    "    RouletteWheelSelection(), \n",
    "    MirrorMutation(np.array([50]+[400]*len(regions)+[1])),\n",
    "    GeneFlipCrossover(),\n",
    "    LoLEloFitnessEvaluation(PerYearMatchData, GroupsData, FinalPlayOff, regions_indexes, [2017,2018])\n",
    ")"
   ]
  },
  {
   "cell_type": "code",
   "execution_count": 217,
   "metadata": {},
   "outputs": [
    {
     "name": "stdout",
     "output_type": "stream",
     "text": [
      "evaluating Starting Pop fitness\n"
     ]
    },
    {
     "data": {
      "application/vnd.jupyter.widget-view+json": {
       "model_id": "e0fe95f016f843c0bfb292b4f1e30a04",
       "version_major": 2,
       "version_minor": 0
      },
      "text/plain": [
       "HBox(children=(FloatProgress(value=0.0, max=20.0), HTML(value='')))"
      ]
     },
     "metadata": {},
     "output_type": "display_data"
    },
    {
     "name": "stderr",
     "output_type": "stream",
     "text": [
      "E:\\Python\\Anaconda3\\lib\\site-packages\\ipykernel_launcher.py:11: RuntimeWarning: overflow encountered in double_scalars\n",
      "  # This is added back by InteractiveShellApp.init_path()\n"
     ]
    },
    {
     "name": "stdout",
     "output_type": "stream",
     "text": [
      "\n",
      "Generation 0 Best Fitness 124\n",
      "evaluating New Pop fitness\n"
     ]
    },
    {
     "data": {
      "application/vnd.jupyter.widget-view+json": {
       "model_id": "4d0f26d090674ad085bff2628967bfc3",
       "version_major": 2,
       "version_minor": 0
      },
      "text/plain": [
       "HBox(children=(FloatProgress(value=0.0, max=30.0), HTML(value='')))"
      ]
     },
     "metadata": {},
     "output_type": "display_data"
    },
    {
     "name": "stdout",
     "output_type": "stream",
     "text": [
      "\n",
      "Generation 1 Best Fitness 146\n",
      "evaluating New Pop fitness\n"
     ]
    },
    {
     "data": {
      "application/vnd.jupyter.widget-view+json": {
       "model_id": "220bf94dad62437580bfac00736c5a23",
       "version_major": 2,
       "version_minor": 0
      },
      "text/plain": [
       "HBox(children=(FloatProgress(value=0.0, max=29.0), HTML(value='')))"
      ]
     },
     "metadata": {},
     "output_type": "display_data"
    },
    {
     "name": "stdout",
     "output_type": "stream",
     "text": [
      "\n",
      "Generation 2 Best Fitness 146\n",
      "evaluating New Pop fitness\n"
     ]
    },
    {
     "data": {
      "application/vnd.jupyter.widget-view+json": {
       "model_id": "e832232c7d17471cb1eddc40b18a27f8",
       "version_major": 2,
       "version_minor": 0
      },
      "text/plain": [
       "HBox(children=(FloatProgress(value=0.0, max=29.0), HTML(value='')))"
      ]
     },
     "metadata": {},
     "output_type": "display_data"
    },
    {
     "name": "stdout",
     "output_type": "stream",
     "text": [
      "\n",
      "Generation 3 Best Fitness 148\n",
      "evaluating New Pop fitness\n"
     ]
    },
    {
     "data": {
      "application/vnd.jupyter.widget-view+json": {
       "model_id": "f71d32ebfdfb415a9797fb70263c4f6f",
       "version_major": 2,
       "version_minor": 0
      },
      "text/plain": [
       "HBox(children=(FloatProgress(value=0.0, max=29.0), HTML(value='')))"
      ]
     },
     "metadata": {},
     "output_type": "display_data"
    },
    {
     "name": "stdout",
     "output_type": "stream",
     "text": [
      "\n",
      "Generation 4 Best Fitness 148\n",
      "evaluating New Pop fitness\n"
     ]
    },
    {
     "data": {
      "application/vnd.jupyter.widget-view+json": {
       "model_id": "cd30d852ea654d208e9e3cec04c76c08",
       "version_major": 2,
       "version_minor": 0
      },
      "text/plain": [
       "HBox(children=(FloatProgress(value=0.0, max=29.0), HTML(value='')))"
      ]
     },
     "metadata": {},
     "output_type": "display_data"
    },
    {
     "name": "stdout",
     "output_type": "stream",
     "text": [
      "\n",
      "Generation 5 Best Fitness 149\n",
      "evaluating New Pop fitness\n"
     ]
    },
    {
     "data": {
      "application/vnd.jupyter.widget-view+json": {
       "model_id": "eea68f534abb46399af80cc30d259bed",
       "version_major": 2,
       "version_minor": 0
      },
      "text/plain": [
       "HBox(children=(FloatProgress(value=0.0, max=29.0), HTML(value='')))"
      ]
     },
     "metadata": {},
     "output_type": "display_data"
    },
    {
     "name": "stdout",
     "output_type": "stream",
     "text": [
      "\n",
      "Generation 6 Best Fitness 149\n",
      "evaluating New Pop fitness\n"
     ]
    },
    {
     "data": {
      "application/vnd.jupyter.widget-view+json": {
       "model_id": "eb02bd24e225462db9c00a2539be300e",
       "version_major": 2,
       "version_minor": 0
      },
      "text/plain": [
       "HBox(children=(FloatProgress(value=0.0, max=29.0), HTML(value='')))"
      ]
     },
     "metadata": {},
     "output_type": "display_data"
    },
    {
     "name": "stdout",
     "output_type": "stream",
     "text": [
      "\n",
      "Generation 7 Best Fitness 149\n",
      "evaluating New Pop fitness\n"
     ]
    },
    {
     "data": {
      "application/vnd.jupyter.widget-view+json": {
       "model_id": "fce709d3b6ea4d9c8fcdbd37aaa77c3d",
       "version_major": 2,
       "version_minor": 0
      },
      "text/plain": [
       "HBox(children=(FloatProgress(value=0.0, max=29.0), HTML(value='')))"
      ]
     },
     "metadata": {},
     "output_type": "display_data"
    },
    {
     "name": "stdout",
     "output_type": "stream",
     "text": [
      "\n",
      "Generation 8 Best Fitness 160\n",
      "evaluating New Pop fitness\n"
     ]
    },
    {
     "data": {
      "application/vnd.jupyter.widget-view+json": {
       "model_id": "307aa234afc947d3927df9dc989a1f04",
       "version_major": 2,
       "version_minor": 0
      },
      "text/plain": [
       "HBox(children=(FloatProgress(value=0.0, max=29.0), HTML(value='')))"
      ]
     },
     "metadata": {},
     "output_type": "display_data"
    },
    {
     "name": "stdout",
     "output_type": "stream",
     "text": [
      "\n",
      "Generation 9 Best Fitness 160\n",
      "evaluating New Pop fitness\n"
     ]
    },
    {
     "data": {
      "application/vnd.jupyter.widget-view+json": {
       "model_id": "a1fa4875432d44eb9c22693e12dfc4f5",
       "version_major": 2,
       "version_minor": 0
      },
      "text/plain": [
       "HBox(children=(FloatProgress(value=0.0, max=29.0), HTML(value='')))"
      ]
     },
     "metadata": {},
     "output_type": "display_data"
    },
    {
     "name": "stdout",
     "output_type": "stream",
     "text": [
      "\n",
      "Generation 10 Best Fitness 160\n",
      "evaluating New Pop fitness\n"
     ]
    },
    {
     "data": {
      "application/vnd.jupyter.widget-view+json": {
       "model_id": "e021c6a72d61439ea5b4660cf4d9bd2f",
       "version_major": 2,
       "version_minor": 0
      },
      "text/plain": [
       "HBox(children=(FloatProgress(value=0.0, max=29.0), HTML(value='')))"
      ]
     },
     "metadata": {},
     "output_type": "display_data"
    },
    {
     "name": "stdout",
     "output_type": "stream",
     "text": [
      "\n",
      "Generation 11 Best Fitness 160\n",
      "evaluating New Pop fitness\n"
     ]
    },
    {
     "data": {
      "application/vnd.jupyter.widget-view+json": {
       "model_id": "d824a04f965544728132f8235d3b7a19",
       "version_major": 2,
       "version_minor": 0
      },
      "text/plain": [
       "HBox(children=(FloatProgress(value=0.0, max=29.0), HTML(value='')))"
      ]
     },
     "metadata": {},
     "output_type": "display_data"
    },
    {
     "name": "stdout",
     "output_type": "stream",
     "text": [
      "\n",
      "Generation 12 Best Fitness 162\n",
      "evaluating New Pop fitness\n"
     ]
    },
    {
     "data": {
      "application/vnd.jupyter.widget-view+json": {
       "model_id": "e5130b50960a49cd802abfe0459391f8",
       "version_major": 2,
       "version_minor": 0
      },
      "text/plain": [
       "HBox(children=(FloatProgress(value=0.0, max=29.0), HTML(value='')))"
      ]
     },
     "metadata": {},
     "output_type": "display_data"
    },
    {
     "name": "stdout",
     "output_type": "stream",
     "text": [
      "\n",
      "Generation 13 Best Fitness 162\n",
      "evaluating New Pop fitness\n"
     ]
    },
    {
     "data": {
      "application/vnd.jupyter.widget-view+json": {
       "model_id": "0f72493e82d44cb09665ab6a29c2d690",
       "version_major": 2,
       "version_minor": 0
      },
      "text/plain": [
       "HBox(children=(FloatProgress(value=0.0, max=29.0), HTML(value='')))"
      ]
     },
     "metadata": {},
     "output_type": "display_data"
    },
    {
     "name": "stdout",
     "output_type": "stream",
     "text": [
      "\n",
      "Generation 14 Best Fitness 162\n",
      "evaluating New Pop fitness\n"
     ]
    },
    {
     "data": {
      "application/vnd.jupyter.widget-view+json": {
       "model_id": "13cde3f639144e458954dd9e289f3b38",
       "version_major": 2,
       "version_minor": 0
      },
      "text/plain": [
       "HBox(children=(FloatProgress(value=0.0, max=29.0), HTML(value='')))"
      ]
     },
     "metadata": {},
     "output_type": "display_data"
    },
    {
     "name": "stdout",
     "output_type": "stream",
     "text": [
      "\n",
      "Generation 15 Best Fitness 162\n",
      "evaluating New Pop fitness\n"
     ]
    },
    {
     "data": {
      "application/vnd.jupyter.widget-view+json": {
       "model_id": "5729419faefe4e9d826b19db203e9cd3",
       "version_major": 2,
       "version_minor": 0
      },
      "text/plain": [
       "HBox(children=(FloatProgress(value=0.0, max=29.0), HTML(value='')))"
      ]
     },
     "metadata": {},
     "output_type": "display_data"
    },
    {
     "name": "stdout",
     "output_type": "stream",
     "text": [
      "\n",
      "Generation 16 Best Fitness 164\n",
      "evaluating New Pop fitness\n"
     ]
    },
    {
     "data": {
      "application/vnd.jupyter.widget-view+json": {
       "model_id": "2c2e0a956b6d40368f406cc07d26376a",
       "version_major": 2,
       "version_minor": 0
      },
      "text/plain": [
       "HBox(children=(FloatProgress(value=0.0, max=29.0), HTML(value='')))"
      ]
     },
     "metadata": {},
     "output_type": "display_data"
    },
    {
     "name": "stdout",
     "output_type": "stream",
     "text": [
      "\n",
      "Generation 17 Best Fitness 164\n",
      "evaluating New Pop fitness\n"
     ]
    },
    {
     "data": {
      "application/vnd.jupyter.widget-view+json": {
       "model_id": "3a37d08b40974c70804bf59a98d616ef",
       "version_major": 2,
       "version_minor": 0
      },
      "text/plain": [
       "HBox(children=(FloatProgress(value=0.0, max=29.0), HTML(value='')))"
      ]
     },
     "metadata": {},
     "output_type": "display_data"
    },
    {
     "name": "stdout",
     "output_type": "stream",
     "text": [
      "\n",
      "Generation 18 Best Fitness 164\n",
      "evaluating New Pop fitness\n"
     ]
    },
    {
     "data": {
      "application/vnd.jupyter.widget-view+json": {
       "model_id": "77511cf0b03c4fff975fa7ae605158cb",
       "version_major": 2,
       "version_minor": 0
      },
      "text/plain": [
       "HBox(children=(FloatProgress(value=0.0, max=29.0), HTML(value='')))"
      ]
     },
     "metadata": {},
     "output_type": "display_data"
    },
    {
     "name": "stdout",
     "output_type": "stream",
     "text": [
      "\n",
      "Generation 19 Best Fitness 164\n",
      "evaluating New Pop fitness\n"
     ]
    },
    {
     "data": {
      "application/vnd.jupyter.widget-view+json": {
       "model_id": "5b55e47a39904e4b8c1bdda4af3bc2be",
       "version_major": 2,
       "version_minor": 0
      },
      "text/plain": [
       "HBox(children=(FloatProgress(value=0.0, max=29.0), HTML(value='')))"
      ]
     },
     "metadata": {},
     "output_type": "display_data"
    },
    {
     "name": "stdout",
     "output_type": "stream",
     "text": [
      "\n"
     ]
    }
   ],
   "source": [
    "aga.evolve(20, generations=20)"
   ]
  },
  {
   "cell_type": "code",
   "execution_count": 218,
   "metadata": {},
   "outputs": [],
   "source": [
    "individual=aga.best_individual"
   ]
  },
  {
   "cell_type": "code",
   "execution_count": 219,
   "metadata": {},
   "outputs": [
    {
     "data": {
      "text/plain": [
       "164"
      ]
     },
     "execution_count": 219,
     "metadata": {},
     "output_type": "execute_result"
    }
   ],
   "source": [
    "Evaluate = LoLEloFitnessEvaluation(PerYearMatchData, GroupsData, FinalPlayOff, regions_indexes, [2017,2018])\n",
    "Evaluate.evaluate(individual)"
   ]
  },
  {
   "cell_type": "code",
   "execution_count": 220,
   "metadata": {},
   "outputs": [],
   "source": [
    "Evaluate = LoLEloFitnessEvaluation(PerYearMatchData, GroupsData, FinalPlayOff, regions_indexes, [2019])"
   ]
  },
  {
   "cell_type": "code",
   "execution_count": 221,
   "metadata": {
    "scrolled": false
   },
   "outputs": [
    {
     "data": {
      "text/plain": [
       "69"
      ]
     },
     "execution_count": 221,
     "metadata": {},
     "output_type": "execute_result"
    }
   ],
   "source": [
    "Evaluate.evaluate(individual)"
   ]
  },
  {
   "cell_type": "code",
   "execution_count": 222,
   "metadata": {},
   "outputs": [],
   "source": [
    "Evaluate = LoLEloFitnessEvaluation(PerYearMatchData, GroupsData, FinalPlayOff, regions_indexes, [2020])"
   ]
  },
  {
   "cell_type": "code",
   "execution_count": 223,
   "metadata": {},
   "outputs": [
    {
     "ename": "KeyError",
     "evalue": "'TBD'",
     "output_type": "error",
     "traceback": [
      "\u001b[1;31m---------------------------------------------------------------------------\u001b[0m",
      "\u001b[1;31mKeyError\u001b[0m                                  Traceback (most recent call last)",
      "\u001b[1;32m<ipython-input-223-f1146b01177a>\u001b[0m in \u001b[0;36m<module>\u001b[1;34m\u001b[0m\n\u001b[1;32m----> 1\u001b[1;33m \u001b[0mEvaluate\u001b[0m\u001b[1;33m.\u001b[0m\u001b[0mevaluate\u001b[0m\u001b[1;33m(\u001b[0m\u001b[0mindividual\u001b[0m\u001b[1;33m)\u001b[0m\u001b[1;33m\u001b[0m\u001b[1;33m\u001b[0m\u001b[0m\n\u001b[0m",
      "\u001b[1;32m<ipython-input-214-73233cb21b57>\u001b[0m in \u001b[0;36mevaluate\u001b[1;34m(self, individual)\u001b[0m\n\u001b[0;32m      7\u001b[0m     \u001b[1;32mdef\u001b[0m \u001b[0mevaluate\u001b[0m\u001b[1;33m(\u001b[0m\u001b[0mself\u001b[0m\u001b[1;33m,\u001b[0m \u001b[0mindividual\u001b[0m\u001b[1;33m)\u001b[0m\u001b[1;33m:\u001b[0m\u001b[1;33m\u001b[0m\u001b[1;33m\u001b[0m\u001b[0m\n\u001b[0;32m      8\u001b[0m         \u001b[0meloModel\u001b[0m \u001b[1;33m=\u001b[0m \u001b[0mEloRating\u001b[0m\u001b[1;33m(\u001b[0m\u001b[0mindividual\u001b[0m\u001b[1;33m.\u001b[0m\u001b[0mgenes\u001b[0m\u001b[1;33m[\u001b[0m\u001b[1;36m0\u001b[0m\u001b[1;33m]\u001b[0m\u001b[1;33m,\u001b[0m \u001b[0mindividual\u001b[0m\u001b[1;33m.\u001b[0m\u001b[0mgenes\u001b[0m\u001b[1;33m[\u001b[0m\u001b[1;36m1\u001b[0m\u001b[1;33m:\u001b[0m\u001b[1;33m-\u001b[0m\u001b[1;36m1\u001b[0m\u001b[1;33m]\u001b[0m\u001b[1;33m,\u001b[0m \u001b[0mindividual\u001b[0m\u001b[1;33m.\u001b[0m\u001b[0mgenes\u001b[0m\u001b[1;33m[\u001b[0m\u001b[1;33m-\u001b[0m\u001b[1;36m1\u001b[0m\u001b[1;33m]\u001b[0m\u001b[1;33m)\u001b[0m\u001b[1;33m\u001b[0m\u001b[1;33m\u001b[0m\u001b[0m\n\u001b[1;32m----> 9\u001b[1;33m         \u001b[1;32mreturn\u001b[0m \u001b[0mnp\u001b[0m\u001b[1;33m.\u001b[0m\u001b[0msum\u001b[0m\u001b[1;33m(\u001b[0m\u001b[1;33m[\u001b[0m\u001b[0mrater\u001b[0m\u001b[1;33m.\u001b[0m\u001b[0mevaluate\u001b[0m\u001b[1;33m(\u001b[0m\u001b[0meloModel\u001b[0m\u001b[1;33m)\u001b[0m \u001b[1;32mfor\u001b[0m \u001b[0mrater\u001b[0m \u001b[1;32min\u001b[0m \u001b[0mself\u001b[0m\u001b[1;33m.\u001b[0m\u001b[0mraters\u001b[0m\u001b[1;33m]\u001b[0m\u001b[1;33m)\u001b[0m\u001b[1;33m\u001b[0m\u001b[1;33m\u001b[0m\u001b[0m\n\u001b[0m\u001b[0;32m     10\u001b[0m \u001b[1;33m\u001b[0m\u001b[0m\n",
      "\u001b[1;32m<ipython-input-214-73233cb21b57>\u001b[0m in \u001b[0;36m<listcomp>\u001b[1;34m(.0)\u001b[0m\n\u001b[0;32m      7\u001b[0m     \u001b[1;32mdef\u001b[0m \u001b[0mevaluate\u001b[0m\u001b[1;33m(\u001b[0m\u001b[0mself\u001b[0m\u001b[1;33m,\u001b[0m \u001b[0mindividual\u001b[0m\u001b[1;33m)\u001b[0m\u001b[1;33m:\u001b[0m\u001b[1;33m\u001b[0m\u001b[1;33m\u001b[0m\u001b[0m\n\u001b[0;32m      8\u001b[0m         \u001b[0meloModel\u001b[0m \u001b[1;33m=\u001b[0m \u001b[0mEloRating\u001b[0m\u001b[1;33m(\u001b[0m\u001b[0mindividual\u001b[0m\u001b[1;33m.\u001b[0m\u001b[0mgenes\u001b[0m\u001b[1;33m[\u001b[0m\u001b[1;36m0\u001b[0m\u001b[1;33m]\u001b[0m\u001b[1;33m,\u001b[0m \u001b[0mindividual\u001b[0m\u001b[1;33m.\u001b[0m\u001b[0mgenes\u001b[0m\u001b[1;33m[\u001b[0m\u001b[1;36m1\u001b[0m\u001b[1;33m:\u001b[0m\u001b[1;33m-\u001b[0m\u001b[1;36m1\u001b[0m\u001b[1;33m]\u001b[0m\u001b[1;33m,\u001b[0m \u001b[0mindividual\u001b[0m\u001b[1;33m.\u001b[0m\u001b[0mgenes\u001b[0m\u001b[1;33m[\u001b[0m\u001b[1;33m-\u001b[0m\u001b[1;36m1\u001b[0m\u001b[1;33m]\u001b[0m\u001b[1;33m)\u001b[0m\u001b[1;33m\u001b[0m\u001b[1;33m\u001b[0m\u001b[0m\n\u001b[1;32m----> 9\u001b[1;33m         \u001b[1;32mreturn\u001b[0m \u001b[0mnp\u001b[0m\u001b[1;33m.\u001b[0m\u001b[0msum\u001b[0m\u001b[1;33m(\u001b[0m\u001b[1;33m[\u001b[0m\u001b[0mrater\u001b[0m\u001b[1;33m.\u001b[0m\u001b[0mevaluate\u001b[0m\u001b[1;33m(\u001b[0m\u001b[0meloModel\u001b[0m\u001b[1;33m)\u001b[0m \u001b[1;32mfor\u001b[0m \u001b[0mrater\u001b[0m \u001b[1;32min\u001b[0m \u001b[0mself\u001b[0m\u001b[1;33m.\u001b[0m\u001b[0mraters\u001b[0m\u001b[1;33m]\u001b[0m\u001b[1;33m)\u001b[0m\u001b[1;33m\u001b[0m\u001b[1;33m\u001b[0m\u001b[0m\n\u001b[0m\u001b[0;32m     10\u001b[0m \u001b[1;33m\u001b[0m\u001b[0m\n",
      "\u001b[1;32m<ipython-input-213-ddb4eaae67b5>\u001b[0m in \u001b[0;36mevaluate\u001b[1;34m(self, EloModel)\u001b[0m\n\u001b[0;32m     46\u001b[0m             \u001b[1;31m#Number of people who passed\u001b[0m\u001b[1;33m\u001b[0m\u001b[1;33m\u001b[0m\u001b[1;33m\u001b[0m\u001b[0m\n\u001b[0;32m     47\u001b[0m         \u001b[0mpointValue\u001b[0m\u001b[1;33m=\u001b[0m\u001b[1;36m5\u001b[0m\u001b[1;33m\u001b[0m\u001b[1;33m\u001b[0m\u001b[0m\n\u001b[1;32m---> 48\u001b[1;33m         \u001b[0mself\u001b[0m\u001b[1;33m.\u001b[0m\u001b[0mplayoff\u001b[0m\u001b[1;33m[\u001b[0m\u001b[1;34m\"Team1Elo\"\u001b[0m\u001b[1;33m]\u001b[0m \u001b[1;33m=\u001b[0m \u001b[0mself\u001b[0m\u001b[1;33m.\u001b[0m\u001b[0mplayoff\u001b[0m\u001b[1;33m[\u001b[0m\u001b[1;34m\"Team1\"\u001b[0m\u001b[1;33m]\u001b[0m\u001b[1;33m.\u001b[0m\u001b[0mapply\u001b[0m\u001b[1;33m(\u001b[0m\u001b[0mRealElo\u001b[0m\u001b[1;33m)\u001b[0m\u001b[1;33m\u001b[0m\u001b[1;33m\u001b[0m\u001b[0m\n\u001b[0m\u001b[0;32m     49\u001b[0m         \u001b[0mself\u001b[0m\u001b[1;33m.\u001b[0m\u001b[0mplayoff\u001b[0m\u001b[1;33m[\u001b[0m\u001b[1;34m\"Team2Elo\"\u001b[0m\u001b[1;33m]\u001b[0m \u001b[1;33m=\u001b[0m \u001b[0mself\u001b[0m\u001b[1;33m.\u001b[0m\u001b[0mplayoff\u001b[0m\u001b[1;33m[\u001b[0m\u001b[1;34m\"Team2\"\u001b[0m\u001b[1;33m]\u001b[0m\u001b[1;33m.\u001b[0m\u001b[0mapply\u001b[0m\u001b[1;33m(\u001b[0m\u001b[0mRealElo\u001b[0m\u001b[1;33m)\u001b[0m\u001b[1;33m\u001b[0m\u001b[1;33m\u001b[0m\u001b[0m\n\u001b[0;32m     50\u001b[0m         \u001b[0mself\u001b[0m\u001b[1;33m.\u001b[0m\u001b[0mplayoff\u001b[0m\u001b[1;33m[\u001b[0m\u001b[1;34m\"RealWinner\"\u001b[0m\u001b[1;33m]\u001b[0m \u001b[1;33m=\u001b[0m \u001b[0mself\u001b[0m\u001b[1;33m.\u001b[0m\u001b[0mplayoff\u001b[0m\u001b[1;33m.\u001b[0m\u001b[0mapply\u001b[0m\u001b[1;33m(\u001b[0m\u001b[0mWhoWon\u001b[0m\u001b[1;33m,\u001b[0m\u001b[0maxis\u001b[0m\u001b[1;33m=\u001b[0m\u001b[1;36m1\u001b[0m\u001b[1;33m)\u001b[0m\u001b[1;33m\u001b[0m\u001b[1;33m\u001b[0m\u001b[0m\n",
      "\u001b[1;32mE:\\Python\\Anaconda3\\lib\\site-packages\\pandas\\core\\series.py\u001b[0m in \u001b[0;36mapply\u001b[1;34m(self, func, convert_dtype, args, **kwds)\u001b[0m\n\u001b[0;32m   3846\u001b[0m             \u001b[1;32melse\u001b[0m\u001b[1;33m:\u001b[0m\u001b[1;33m\u001b[0m\u001b[1;33m\u001b[0m\u001b[0m\n\u001b[0;32m   3847\u001b[0m                 \u001b[0mvalues\u001b[0m \u001b[1;33m=\u001b[0m \u001b[0mself\u001b[0m\u001b[1;33m.\u001b[0m\u001b[0mastype\u001b[0m\u001b[1;33m(\u001b[0m\u001b[0mobject\u001b[0m\u001b[1;33m)\u001b[0m\u001b[1;33m.\u001b[0m\u001b[0mvalues\u001b[0m\u001b[1;33m\u001b[0m\u001b[1;33m\u001b[0m\u001b[0m\n\u001b[1;32m-> 3848\u001b[1;33m                 \u001b[0mmapped\u001b[0m \u001b[1;33m=\u001b[0m \u001b[0mlib\u001b[0m\u001b[1;33m.\u001b[0m\u001b[0mmap_infer\u001b[0m\u001b[1;33m(\u001b[0m\u001b[0mvalues\u001b[0m\u001b[1;33m,\u001b[0m \u001b[0mf\u001b[0m\u001b[1;33m,\u001b[0m \u001b[0mconvert\u001b[0m\u001b[1;33m=\u001b[0m\u001b[0mconvert_dtype\u001b[0m\u001b[1;33m)\u001b[0m\u001b[1;33m\u001b[0m\u001b[1;33m\u001b[0m\u001b[0m\n\u001b[0m\u001b[0;32m   3849\u001b[0m \u001b[1;33m\u001b[0m\u001b[0m\n\u001b[0;32m   3850\u001b[0m         \u001b[1;32mif\u001b[0m \u001b[0mlen\u001b[0m\u001b[1;33m(\u001b[0m\u001b[0mmapped\u001b[0m\u001b[1;33m)\u001b[0m \u001b[1;32mand\u001b[0m \u001b[0misinstance\u001b[0m\u001b[1;33m(\u001b[0m\u001b[0mmapped\u001b[0m\u001b[1;33m[\u001b[0m\u001b[1;36m0\u001b[0m\u001b[1;33m]\u001b[0m\u001b[1;33m,\u001b[0m \u001b[0mSeries\u001b[0m\u001b[1;33m)\u001b[0m\u001b[1;33m:\u001b[0m\u001b[1;33m\u001b[0m\u001b[1;33m\u001b[0m\u001b[0m\n",
      "\u001b[1;32mpandas\\_libs\\lib.pyx\u001b[0m in \u001b[0;36mpandas._libs.lib.map_infer\u001b[1;34m()\u001b[0m\n",
      "\u001b[1;32m<ipython-input-213-ddb4eaae67b5>\u001b[0m in \u001b[0;36m<lambda>\u001b[1;34m(x)\u001b[0m\n\u001b[0;32m     37\u001b[0m         \u001b[1;31m#Scoring - Group Stage\u001b[0m\u001b[1;33m\u001b[0m\u001b[1;33m\u001b[0m\u001b[1;33m\u001b[0m\u001b[0m\n\u001b[0;32m     38\u001b[0m         \u001b[0mGroups\u001b[0m \u001b[1;33m=\u001b[0m \u001b[0mself\u001b[0m\u001b[1;33m.\u001b[0m\u001b[0mgroups\u001b[0m\u001b[1;33m[\u001b[0m\u001b[1;34m\"GroupName\"\u001b[0m\u001b[1;33m]\u001b[0m\u001b[1;33m.\u001b[0m\u001b[0munique\u001b[0m\u001b[1;33m(\u001b[0m\u001b[1;33m)\u001b[0m\u001b[1;33m\u001b[0m\u001b[1;33m\u001b[0m\u001b[0m\n\u001b[1;32m---> 39\u001b[1;33m         \u001b[0mRealElo\u001b[0m \u001b[1;33m=\u001b[0m \u001b[1;32mlambda\u001b[0m \u001b[0mx\u001b[0m\u001b[1;33m:\u001b[0m \u001b[0mEloModel\u001b[0m\u001b[1;33m.\u001b[0m\u001b[0mRealElo\u001b[0m\u001b[1;33m(\u001b[0m\u001b[0mself\u001b[0m\u001b[1;33m.\u001b[0m\u001b[0mRating\u001b[0m\u001b[1;33m[\u001b[0m\u001b[0mx\u001b[0m\u001b[1;33m]\u001b[0m\u001b[1;33m,\u001b[0m\u001b[0mself\u001b[0m\u001b[1;33m.\u001b[0m\u001b[0mregion_indexes\u001b[0m\u001b[1;33m[\u001b[0m\u001b[0mself\u001b[0m\u001b[1;33m.\u001b[0m\u001b[0mLeague\u001b[0m\u001b[1;33m[\u001b[0m\u001b[0mx\u001b[0m\u001b[1;33m]\u001b[0m\u001b[1;33m]\u001b[0m\u001b[1;33m)\u001b[0m\u001b[1;33m\u001b[0m\u001b[1;33m\u001b[0m\u001b[0m\n\u001b[0m\u001b[0;32m     40\u001b[0m         \u001b[0mself\u001b[0m\u001b[1;33m.\u001b[0m\u001b[0mgroups\u001b[0m\u001b[1;33m[\u001b[0m\u001b[1;34m\"Elo\"\u001b[0m\u001b[1;33m]\u001b[0m\u001b[1;33m=\u001b[0m\u001b[0mself\u001b[0m\u001b[1;33m.\u001b[0m\u001b[0mgroups\u001b[0m\u001b[1;33m[\u001b[0m\u001b[1;34m\"Team\"\u001b[0m\u001b[1;33m]\u001b[0m\u001b[1;33m.\u001b[0m\u001b[0mapply\u001b[0m\u001b[1;33m(\u001b[0m\u001b[0mRealElo\u001b[0m\u001b[1;33m)\u001b[0m\u001b[1;33m\u001b[0m\u001b[1;33m\u001b[0m\u001b[0m\n\u001b[0;32m     41\u001b[0m         \u001b[1;32mfor\u001b[0m \u001b[0mgroup\u001b[0m \u001b[1;32min\u001b[0m \u001b[0mGroups\u001b[0m\u001b[1;33m:\u001b[0m\u001b[1;33m\u001b[0m\u001b[1;33m\u001b[0m\u001b[0m\n",
      "\u001b[1;31mKeyError\u001b[0m: 'TBD'"
     ]
    }
   ],
   "source": [
    "Evaluate.evaluate(individual)"
   ]
  },
  {
   "cell_type": "markdown",
   "metadata": {},
   "source": [
    "The important part for now is having the following table, to decide the various winners"
   ]
  },
  {
   "cell_type": "code",
   "execution_count": 224,
   "metadata": {},
   "outputs": [
    {
     "data": {
      "text/html": [
       "<div>\n",
       "<style scoped>\n",
       "    .dataframe tbody tr th:only-of-type {\n",
       "        vertical-align: middle;\n",
       "    }\n",
       "\n",
       "    .dataframe tbody tr th {\n",
       "        vertical-align: top;\n",
       "    }\n",
       "\n",
       "    .dataframe thead th {\n",
       "        text-align: right;\n",
       "    }\n",
       "</style>\n",
       "<table border=\"1\" class=\"dataframe\">\n",
       "  <thead>\n",
       "    <tr style=\"text-align: right;\">\n",
       "      <th></th>\n",
       "      <th>Team</th>\n",
       "      <th>GroupName</th>\n",
       "      <th>Wins</th>\n",
       "      <th>Elo</th>\n",
       "      <th>New_Elo</th>\n",
       "    </tr>\n",
       "  </thead>\n",
       "  <tbody>\n",
       "    <tr>\n",
       "      <th>15</th>\n",
       "      <td>Unicorns Of Love.CIS</td>\n",
       "      <td>Group D</td>\n",
       "      <td>3</td>\n",
       "      <td>20.847338</td>\n",
       "      <td>456644.948626</td>\n",
       "    </tr>\n",
       "    <tr>\n",
       "      <th>14</th>\n",
       "      <td>Top Esports</td>\n",
       "      <td>Group D</td>\n",
       "      <td>3</td>\n",
       "      <td>11.615048</td>\n",
       "      <td>156935.841438</td>\n",
       "    </tr>\n",
       "    <tr>\n",
       "      <th>1</th>\n",
       "      <td>DRX</td>\n",
       "      <td>Group D</td>\n",
       "      <td>3</td>\n",
       "      <td>14.620715</td>\n",
       "      <td>117824.804064</td>\n",
       "    </tr>\n",
       "    <tr>\n",
       "      <th>2</th>\n",
       "      <td>FlyQuest</td>\n",
       "      <td>Group D</td>\n",
       "      <td>3</td>\n",
       "      <td>5.044691</td>\n",
       "      <td>68648.709963</td>\n",
       "    </tr>\n",
       "    <tr>\n",
       "      <th>5</th>\n",
       "      <td>Gen.G</td>\n",
       "      <td>Group C</td>\n",
       "      <td>3</td>\n",
       "      <td>37.674071</td>\n",
       "      <td>264638.755467</td>\n",
       "    </tr>\n",
       "    <tr>\n",
       "      <th>3</th>\n",
       "      <td>Fnatic</td>\n",
       "      <td>Group C</td>\n",
       "      <td>3</td>\n",
       "      <td>9.759814</td>\n",
       "      <td>241353.636043</td>\n",
       "    </tr>\n",
       "    <tr>\n",
       "      <th>7</th>\n",
       "      <td>LGD Gaming</td>\n",
       "      <td>Group C</td>\n",
       "      <td>3</td>\n",
       "      <td>-2.128985</td>\n",
       "      <td>81295.050685</td>\n",
       "    </tr>\n",
       "    <tr>\n",
       "      <th>13</th>\n",
       "      <td>Team SoloMid</td>\n",
       "      <td>Group C</td>\n",
       "      <td>3</td>\n",
       "      <td>3.683838</td>\n",
       "      <td>53500.270454</td>\n",
       "    </tr>\n",
       "    <tr>\n",
       "      <th>9</th>\n",
       "      <td>PSG Talon</td>\n",
       "      <td>Group B</td>\n",
       "      <td>3</td>\n",
       "      <td>6.538271</td>\n",
       "      <td>241318.953616</td>\n",
       "    </tr>\n",
       "    <tr>\n",
       "      <th>6</th>\n",
       "      <td>JD Gaming</td>\n",
       "      <td>Group B</td>\n",
       "      <td>3</td>\n",
       "      <td>14.916648</td>\n",
       "      <td>193132.093002</td>\n",
       "    </tr>\n",
       "    <tr>\n",
       "      <th>0</th>\n",
       "      <td>DAMWON Gaming</td>\n",
       "      <td>Group B</td>\n",
       "      <td>3</td>\n",
       "      <td>28.740478</td>\n",
       "      <td>187855.531239</td>\n",
       "    </tr>\n",
       "    <tr>\n",
       "      <th>10</th>\n",
       "      <td>Rogue (European Team)</td>\n",
       "      <td>Group B</td>\n",
       "      <td>3</td>\n",
       "      <td>7.190776</td>\n",
       "      <td>182412.151176</td>\n",
       "    </tr>\n",
       "    <tr>\n",
       "      <th>4</th>\n",
       "      <td>G2 Esports</td>\n",
       "      <td>Group A</td>\n",
       "      <td>3</td>\n",
       "      <td>19.587505</td>\n",
       "      <td>417459.489955</td>\n",
       "    </tr>\n",
       "    <tr>\n",
       "      <th>8</th>\n",
       "      <td>Machi Esports</td>\n",
       "      <td>Group A</td>\n",
       "      <td>3</td>\n",
       "      <td>13.593080</td>\n",
       "      <td>392174.230633</td>\n",
       "    </tr>\n",
       "    <tr>\n",
       "      <th>12</th>\n",
       "      <td>Team Liquid</td>\n",
       "      <td>Group A</td>\n",
       "      <td>3</td>\n",
       "      <td>5.960515</td>\n",
       "      <td>106762.192350</td>\n",
       "    </tr>\n",
       "    <tr>\n",
       "      <th>11</th>\n",
       "      <td>Suning</td>\n",
       "      <td>Group A</td>\n",
       "      <td>3</td>\n",
       "      <td>1.678228</td>\n",
       "      <td>27513.390647</td>\n",
       "    </tr>\n",
       "  </tbody>\n",
       "</table>\n",
       "</div>"
      ],
      "text/plain": [
       "                     Team GroupName  Wins        Elo        New_Elo\n",
       "15   Unicorns Of Love.CIS   Group D     3  20.847338  456644.948626\n",
       "14            Top Esports   Group D     3  11.615048  156935.841438\n",
       "1                     DRX   Group D     3  14.620715  117824.804064\n",
       "2                FlyQuest   Group D     3   5.044691   68648.709963\n",
       "5                   Gen.G   Group C     3  37.674071  264638.755467\n",
       "3                  Fnatic   Group C     3   9.759814  241353.636043\n",
       "7              LGD Gaming   Group C     3  -2.128985   81295.050685\n",
       "13           Team SoloMid   Group C     3   3.683838   53500.270454\n",
       "9               PSG Talon   Group B     3   6.538271  241318.953616\n",
       "6               JD Gaming   Group B     3  14.916648  193132.093002\n",
       "0           DAMWON Gaming   Group B     3  28.740478  187855.531239\n",
       "10  Rogue (European Team)   Group B     3   7.190776  182412.151176\n",
       "4              G2 Esports   Group A     3  19.587505  417459.489955\n",
       "8           Machi Esports   Group A     3  13.593080  392174.230633\n",
       "12            Team Liquid   Group A     3   5.960515  106762.192350\n",
       "11                 Suning   Group A     3   1.678228   27513.390647"
      ]
     },
     "execution_count": 224,
     "metadata": {},
     "output_type": "execute_result"
    }
   ],
   "source": [
    "GroupsData[2020].sort_values(by=[\"GroupName\",\"New_Elo\"], ascending=False)"
   ]
  },
  {
   "cell_type": "code",
   "execution_count": 146,
   "metadata": {},
   "outputs": [],
   "source": [
    "eloModel = EloRating(individual.genes[0], individual.genes[1:-1], individual.genes[-1])"
   ]
  },
  {
   "cell_type": "code",
   "execution_count": 179,
   "metadata": {},
   "outputs": [
    {
     "data": {
      "text/plain": [
       "1.2977749435440376"
      ]
     },
     "execution_count": 179,
     "metadata": {},
     "output_type": "execute_result"
    }
   ],
   "source": [
    "eloModel.D"
   ]
  },
  {
   "cell_type": "code",
   "execution_count": 242,
   "metadata": {
    "scrolled": false
   },
   "outputs": [
    {
     "data": {
      "text/html": [
       "<div>\n",
       "<style scoped>\n",
       "    .dataframe tbody tr th:only-of-type {\n",
       "        vertical-align: middle;\n",
       "    }\n",
       "\n",
       "    .dataframe tbody tr th {\n",
       "        vertical-align: top;\n",
       "    }\n",
       "\n",
       "    .dataframe thead th {\n",
       "        text-align: right;\n",
       "    }\n",
       "</style>\n",
       "<table border=\"1\" class=\"dataframe\">\n",
       "  <thead>\n",
       "    <tr style=\"text-align: right;\">\n",
       "      <th></th>\n",
       "      <th>Team</th>\n",
       "      <th>GroupName</th>\n",
       "      <th>Wins</th>\n",
       "      <th>Elo</th>\n",
       "    </tr>\n",
       "  </thead>\n",
       "  <tbody>\n",
       "    <tr>\n",
       "      <th>3</th>\n",
       "      <td>DAMWON Gaming</td>\n",
       "      <td>Group D</td>\n",
       "      <td>5</td>\n",
       "      <td>24.621485</td>\n",
       "    </tr>\n",
       "    <tr>\n",
       "      <th>15</th>\n",
       "      <td>Team Liquid</td>\n",
       "      <td>Group D</td>\n",
       "      <td>3</td>\n",
       "      <td>14.566014</td>\n",
       "    </tr>\n",
       "    <tr>\n",
       "      <th>10</th>\n",
       "      <td>Invictus Gaming</td>\n",
       "      <td>Group D</td>\n",
       "      <td>4</td>\n",
       "      <td>9.157000</td>\n",
       "    </tr>\n",
       "    <tr>\n",
       "      <th>0</th>\n",
       "      <td>ahq eSports Club</td>\n",
       "      <td>Group D</td>\n",
       "      <td>0</td>\n",
       "      <td>1.317168</td>\n",
       "    </tr>\n",
       "    <tr>\n",
       "      <th>13</th>\n",
       "      <td>SK Telecom T1</td>\n",
       "      <td>Group C</td>\n",
       "      <td>5</td>\n",
       "      <td>36.906351</td>\n",
       "    </tr>\n",
       "    <tr>\n",
       "      <th>4</th>\n",
       "      <td>Fnatic</td>\n",
       "      <td>Group C</td>\n",
       "      <td>4</td>\n",
       "      <td>14.061228</td>\n",
       "    </tr>\n",
       "    <tr>\n",
       "      <th>12</th>\n",
       "      <td>Royal Never Give Up</td>\n",
       "      <td>Group C</td>\n",
       "      <td>3</td>\n",
       "      <td>8.691843</td>\n",
       "    </tr>\n",
       "    <tr>\n",
       "      <th>2</th>\n",
       "      <td>Clutch Gaming</td>\n",
       "      <td>Group C</td>\n",
       "      <td>0</td>\n",
       "      <td>-5.129687</td>\n",
       "    </tr>\n",
       "    <tr>\n",
       "      <th>5</th>\n",
       "      <td>FunPlus Phoenix</td>\n",
       "      <td>Group B</td>\n",
       "      <td>5</td>\n",
       "      <td>18.240158</td>\n",
       "    </tr>\n",
       "    <tr>\n",
       "      <th>14</th>\n",
       "      <td>Splyce</td>\n",
       "      <td>Group B</td>\n",
       "      <td>4</td>\n",
       "      <td>11.308333</td>\n",
       "    </tr>\n",
       "    <tr>\n",
       "      <th>11</th>\n",
       "      <td>J Team</td>\n",
       "      <td>Group B</td>\n",
       "      <td>3</td>\n",
       "      <td>5.652989</td>\n",
       "    </tr>\n",
       "    <tr>\n",
       "      <th>7</th>\n",
       "      <td>GAM Esports</td>\n",
       "      <td>Group B</td>\n",
       "      <td>1</td>\n",
       "      <td>2.018356</td>\n",
       "    </tr>\n",
       "    <tr>\n",
       "      <th>8</th>\n",
       "      <td>Griffin</td>\n",
       "      <td>Group A</td>\n",
       "      <td>6</td>\n",
       "      <td>37.097126</td>\n",
       "    </tr>\n",
       "    <tr>\n",
       "      <th>6</th>\n",
       "      <td>G2 Esports</td>\n",
       "      <td>Group A</td>\n",
       "      <td>5</td>\n",
       "      <td>21.481291</td>\n",
       "    </tr>\n",
       "    <tr>\n",
       "      <th>1</th>\n",
       "      <td>Cloud9</td>\n",
       "      <td>Group A</td>\n",
       "      <td>2</td>\n",
       "      <td>11.442398</td>\n",
       "    </tr>\n",
       "    <tr>\n",
       "      <th>9</th>\n",
       "      <td>Hong Kong Attitude</td>\n",
       "      <td>Group A</td>\n",
       "      <td>0</td>\n",
       "      <td>3.516345</td>\n",
       "    </tr>\n",
       "  </tbody>\n",
       "</table>\n",
       "</div>"
      ],
      "text/plain": [
       "                   Team GroupName  Wins        Elo\n",
       "3         DAMWON Gaming   Group D     5  24.621485\n",
       "15          Team Liquid   Group D     3  14.566014\n",
       "10      Invictus Gaming   Group D     4   9.157000\n",
       "0      ahq eSports Club   Group D     0   1.317168\n",
       "13        SK Telecom T1   Group C     5  36.906351\n",
       "4                Fnatic   Group C     4  14.061228\n",
       "12  Royal Never Give Up   Group C     3   8.691843\n",
       "2         Clutch Gaming   Group C     0  -5.129687\n",
       "5       FunPlus Phoenix   Group B     5  18.240158\n",
       "14               Splyce   Group B     4  11.308333\n",
       "11               J Team   Group B     3   5.652989\n",
       "7           GAM Esports   Group B     1   2.018356\n",
       "8               Griffin   Group A     6  37.097126\n",
       "6            G2 Esports   Group A     5  21.481291\n",
       "1                Cloud9   Group A     2  11.442398\n",
       "9    Hong Kong Attitude   Group A     0   3.516345"
      ]
     },
     "execution_count": 242,
     "metadata": {},
     "output_type": "execute_result"
    }
   ],
   "source": [
    "GroupsData[2019].sort_values(by=[\"GroupName\",\"Elo\"], ascending=False)"
   ]
  },
  {
   "cell_type": "code",
   "execution_count": 229,
   "metadata": {},
   "outputs": [
    {
     "data": {
      "text/html": [
       "<div>\n",
       "<style scoped>\n",
       "    .dataframe tbody tr th:only-of-type {\n",
       "        vertical-align: middle;\n",
       "    }\n",
       "\n",
       "    .dataframe tbody tr th {\n",
       "        vertical-align: top;\n",
       "    }\n",
       "\n",
       "    .dataframe thead th {\n",
       "        text-align: right;\n",
       "    }\n",
       "</style>\n",
       "<table border=\"1\" class=\"dataframe\">\n",
       "  <thead>\n",
       "    <tr style=\"text-align: right;\">\n",
       "      <th></th>\n",
       "      <th>Team</th>\n",
       "      <th>GroupName</th>\n",
       "      <th>Wins</th>\n",
       "      <th>Elo</th>\n",
       "    </tr>\n",
       "  </thead>\n",
       "  <tbody>\n",
       "    <tr>\n",
       "      <th>15</th>\n",
       "      <td>Unicorns Of Love.CIS</td>\n",
       "      <td>Group D</td>\n",
       "      <td>3</td>\n",
       "      <td>20.847338</td>\n",
       "    </tr>\n",
       "    <tr>\n",
       "      <th>1</th>\n",
       "      <td>DRX</td>\n",
       "      <td>Group D</td>\n",
       "      <td>3</td>\n",
       "      <td>14.620715</td>\n",
       "    </tr>\n",
       "    <tr>\n",
       "      <th>14</th>\n",
       "      <td>Top Esports</td>\n",
       "      <td>Group D</td>\n",
       "      <td>3</td>\n",
       "      <td>11.615048</td>\n",
       "    </tr>\n",
       "    <tr>\n",
       "      <th>2</th>\n",
       "      <td>FlyQuest</td>\n",
       "      <td>Group D</td>\n",
       "      <td>3</td>\n",
       "      <td>5.044691</td>\n",
       "    </tr>\n",
       "    <tr>\n",
       "      <th>5</th>\n",
       "      <td>Gen.G</td>\n",
       "      <td>Group C</td>\n",
       "      <td>3</td>\n",
       "      <td>37.674071</td>\n",
       "    </tr>\n",
       "    <tr>\n",
       "      <th>3</th>\n",
       "      <td>Fnatic</td>\n",
       "      <td>Group C</td>\n",
       "      <td>3</td>\n",
       "      <td>9.759814</td>\n",
       "    </tr>\n",
       "    <tr>\n",
       "      <th>13</th>\n",
       "      <td>Team SoloMid</td>\n",
       "      <td>Group C</td>\n",
       "      <td>3</td>\n",
       "      <td>3.683838</td>\n",
       "    </tr>\n",
       "    <tr>\n",
       "      <th>7</th>\n",
       "      <td>LGD Gaming</td>\n",
       "      <td>Group C</td>\n",
       "      <td>3</td>\n",
       "      <td>-2.128985</td>\n",
       "    </tr>\n",
       "    <tr>\n",
       "      <th>0</th>\n",
       "      <td>DAMWON Gaming</td>\n",
       "      <td>Group B</td>\n",
       "      <td>3</td>\n",
       "      <td>28.740478</td>\n",
       "    </tr>\n",
       "    <tr>\n",
       "      <th>6</th>\n",
       "      <td>JD Gaming</td>\n",
       "      <td>Group B</td>\n",
       "      <td>3</td>\n",
       "      <td>14.916648</td>\n",
       "    </tr>\n",
       "    <tr>\n",
       "      <th>10</th>\n",
       "      <td>Rogue (European Team)</td>\n",
       "      <td>Group B</td>\n",
       "      <td>3</td>\n",
       "      <td>7.190776</td>\n",
       "    </tr>\n",
       "    <tr>\n",
       "      <th>9</th>\n",
       "      <td>PSG Talon</td>\n",
       "      <td>Group B</td>\n",
       "      <td>3</td>\n",
       "      <td>6.538271</td>\n",
       "    </tr>\n",
       "    <tr>\n",
       "      <th>4</th>\n",
       "      <td>G2 Esports</td>\n",
       "      <td>Group A</td>\n",
       "      <td>3</td>\n",
       "      <td>19.587505</td>\n",
       "    </tr>\n",
       "    <tr>\n",
       "      <th>8</th>\n",
       "      <td>Machi Esports</td>\n",
       "      <td>Group A</td>\n",
       "      <td>3</td>\n",
       "      <td>13.593080</td>\n",
       "    </tr>\n",
       "    <tr>\n",
       "      <th>12</th>\n",
       "      <td>Team Liquid</td>\n",
       "      <td>Group A</td>\n",
       "      <td>3</td>\n",
       "      <td>5.960515</td>\n",
       "    </tr>\n",
       "    <tr>\n",
       "      <th>11</th>\n",
       "      <td>Suning</td>\n",
       "      <td>Group A</td>\n",
       "      <td>3</td>\n",
       "      <td>1.678228</td>\n",
       "    </tr>\n",
       "  </tbody>\n",
       "</table>\n",
       "</div>"
      ],
      "text/plain": [
       "                     Team GroupName  Wins        Elo\n",
       "15   Unicorns Of Love.CIS   Group D     3  20.847338\n",
       "1                     DRX   Group D     3  14.620715\n",
       "14            Top Esports   Group D     3  11.615048\n",
       "2                FlyQuest   Group D     3   5.044691\n",
       "5                   Gen.G   Group C     3  37.674071\n",
       "3                  Fnatic   Group C     3   9.759814\n",
       "13           Team SoloMid   Group C     3   3.683838\n",
       "7              LGD Gaming   Group C     3  -2.128985\n",
       "0           DAMWON Gaming   Group B     3  28.740478\n",
       "6               JD Gaming   Group B     3  14.916648\n",
       "10  Rogue (European Team)   Group B     3   7.190776\n",
       "9               PSG Talon   Group B     3   6.538271\n",
       "4              G2 Esports   Group A     3  19.587505\n",
       "8           Machi Esports   Group A     3  13.593080\n",
       "12            Team Liquid   Group A     3   5.960515\n",
       "11                 Suning   Group A     3   1.678228"
      ]
     },
     "execution_count": 229,
     "metadata": {},
     "output_type": "execute_result"
    }
   ],
   "source": [
    "GroupsData[2020].sort_values(by=[\"GroupName\",\"Elo\"], ascending=False)"
   ]
  },
  {
   "cell_type": "code",
   "execution_count": 233,
   "metadata": {},
   "outputs": [
    {
     "data": {
      "text/plain": [
       "{'GPL': 406.16299466788485,\n",
       " 'NA LCS': 233.30982334646853,\n",
       " 'EU LCS': 434.58356478234083,\n",
       " 'LPL': 353.9935943546179,\n",
       " 'TCL': 406.16299466788485,\n",
       " 'LJL': 397.16969761929926,\n",
       " 'CBLOL': 377.5353853763625,\n",
       " 'LMS': 406.16299466788485,\n",
       " 'OPL': 309.1793320497195,\n",
       " 'CLS': 373.15318646185773,\n",
       " 'LCK': 369.6985027610664,\n",
       " 'LCL': 303.35532716298246,\n",
       " 'LLN': 373.15318646185773,\n",
       " 'VCS': 406.16299466788485,\n",
       " 'LEC': 434.58356478234083,\n",
       " 'LLA': 373.15318646185773,\n",
       " 'LCS': 233.30982334646853,\n",
       " 'PCS': 406.16299466788485,\n",
       " 'LST': 406.16299466788485}"
      ]
     },
     "execution_count": 233,
     "metadata": {},
     "output_type": "execute_result"
    }
   ],
   "source": [
    "{region: eloModel.C[regions_indexes[region]] for region in regions_indexes}"
   ]
  },
  {
   "cell_type": "code",
   "execution_count": 263,
   "metadata": {},
   "outputs": [],
   "source": [
    "def addStandings(df):\n",
    "    df[\"Rank\"] = 0\n",
    "    for group in df[\"GroupName\"]:\n",
    "        ranking = df[df[\"GroupName\"] == group].sort_values(by=[\"Elo\"], ascending=False).index\n",
    "        df[\"Rank\"].loc[ranking]=np.arange(1,5) \n",
    "    return df.sort_values(by=[\"GroupName\",\"Rank\"])"
   ]
  },
  {
   "cell_type": "code",
   "execution_count": 261,
   "metadata": {},
   "outputs": [
    {
     "name": "stderr",
     "output_type": "stream",
     "text": [
      "E:\\Python\\Anaconda3\\lib\\site-packages\\pandas\\core\\indexing.py:671: SettingWithCopyWarning: \n",
      "A value is trying to be set on a copy of a slice from a DataFrame\n",
      "\n",
      "See the caveats in the documentation: https://pandas.pydata.org/pandas-docs/stable/user_guide/indexing.html#returning-a-view-versus-a-copy\n",
      "  self._setitem_with_indexer(indexer, value)\n"
     ]
    },
    {
     "data": {
      "text/html": [
       "<div>\n",
       "<style scoped>\n",
       "    .dataframe tbody tr th:only-of-type {\n",
       "        vertical-align: middle;\n",
       "    }\n",
       "\n",
       "    .dataframe tbody tr th {\n",
       "        vertical-align: top;\n",
       "    }\n",
       "\n",
       "    .dataframe thead th {\n",
       "        text-align: right;\n",
       "    }\n",
       "</style>\n",
       "<table border=\"1\" class=\"dataframe\">\n",
       "  <thead>\n",
       "    <tr style=\"text-align: right;\">\n",
       "      <th></th>\n",
       "      <th>Team</th>\n",
       "      <th>GroupName</th>\n",
       "      <th>Wins</th>\n",
       "      <th>Elo</th>\n",
       "      <th>Rank</th>\n",
       "    </tr>\n",
       "  </thead>\n",
       "  <tbody>\n",
       "    <tr>\n",
       "      <th>0</th>\n",
       "      <td>DAMWON Gaming</td>\n",
       "      <td>Group B</td>\n",
       "      <td>3</td>\n",
       "      <td>28.740478</td>\n",
       "      <td>1</td>\n",
       "    </tr>\n",
       "    <tr>\n",
       "      <th>1</th>\n",
       "      <td>DRX</td>\n",
       "      <td>Group D</td>\n",
       "      <td>3</td>\n",
       "      <td>14.620715</td>\n",
       "      <td>2</td>\n",
       "    </tr>\n",
       "    <tr>\n",
       "      <th>2</th>\n",
       "      <td>FlyQuest</td>\n",
       "      <td>Group D</td>\n",
       "      <td>3</td>\n",
       "      <td>5.044691</td>\n",
       "      <td>4</td>\n",
       "    </tr>\n",
       "    <tr>\n",
       "      <th>3</th>\n",
       "      <td>Fnatic</td>\n",
       "      <td>Group C</td>\n",
       "      <td>3</td>\n",
       "      <td>9.759814</td>\n",
       "      <td>2</td>\n",
       "    </tr>\n",
       "    <tr>\n",
       "      <th>4</th>\n",
       "      <td>G2 Esports</td>\n",
       "      <td>Group A</td>\n",
       "      <td>3</td>\n",
       "      <td>19.587505</td>\n",
       "      <td>1</td>\n",
       "    </tr>\n",
       "    <tr>\n",
       "      <th>5</th>\n",
       "      <td>Gen.G</td>\n",
       "      <td>Group C</td>\n",
       "      <td>3</td>\n",
       "      <td>37.674071</td>\n",
       "      <td>1</td>\n",
       "    </tr>\n",
       "    <tr>\n",
       "      <th>6</th>\n",
       "      <td>JD Gaming</td>\n",
       "      <td>Group B</td>\n",
       "      <td>3</td>\n",
       "      <td>14.916648</td>\n",
       "      <td>2</td>\n",
       "    </tr>\n",
       "    <tr>\n",
       "      <th>7</th>\n",
       "      <td>LGD Gaming</td>\n",
       "      <td>Group C</td>\n",
       "      <td>3</td>\n",
       "      <td>-2.128985</td>\n",
       "      <td>4</td>\n",
       "    </tr>\n",
       "    <tr>\n",
       "      <th>8</th>\n",
       "      <td>Machi Esports</td>\n",
       "      <td>Group A</td>\n",
       "      <td>3</td>\n",
       "      <td>13.593080</td>\n",
       "      <td>2</td>\n",
       "    </tr>\n",
       "    <tr>\n",
       "      <th>9</th>\n",
       "      <td>PSG Talon</td>\n",
       "      <td>Group B</td>\n",
       "      <td>3</td>\n",
       "      <td>6.538271</td>\n",
       "      <td>4</td>\n",
       "    </tr>\n",
       "    <tr>\n",
       "      <th>10</th>\n",
       "      <td>Rogue (European Team)</td>\n",
       "      <td>Group B</td>\n",
       "      <td>3</td>\n",
       "      <td>7.190776</td>\n",
       "      <td>3</td>\n",
       "    </tr>\n",
       "    <tr>\n",
       "      <th>11</th>\n",
       "      <td>Suning</td>\n",
       "      <td>Group A</td>\n",
       "      <td>3</td>\n",
       "      <td>1.678228</td>\n",
       "      <td>4</td>\n",
       "    </tr>\n",
       "    <tr>\n",
       "      <th>12</th>\n",
       "      <td>Team Liquid</td>\n",
       "      <td>Group A</td>\n",
       "      <td>3</td>\n",
       "      <td>5.960515</td>\n",
       "      <td>3</td>\n",
       "    </tr>\n",
       "    <tr>\n",
       "      <th>13</th>\n",
       "      <td>Team SoloMid</td>\n",
       "      <td>Group C</td>\n",
       "      <td>3</td>\n",
       "      <td>3.683838</td>\n",
       "      <td>3</td>\n",
       "    </tr>\n",
       "    <tr>\n",
       "      <th>14</th>\n",
       "      <td>Top Esports</td>\n",
       "      <td>Group D</td>\n",
       "      <td>3</td>\n",
       "      <td>11.615048</td>\n",
       "      <td>3</td>\n",
       "    </tr>\n",
       "    <tr>\n",
       "      <th>15</th>\n",
       "      <td>Unicorns Of Love.CIS</td>\n",
       "      <td>Group D</td>\n",
       "      <td>3</td>\n",
       "      <td>20.847338</td>\n",
       "      <td>1</td>\n",
       "    </tr>\n",
       "  </tbody>\n",
       "</table>\n",
       "</div>"
      ],
      "text/plain": [
       "                     Team GroupName  Wins        Elo  Rank\n",
       "0           DAMWON Gaming   Group B     3  28.740478     1\n",
       "1                     DRX   Group D     3  14.620715     2\n",
       "2                FlyQuest   Group D     3   5.044691     4\n",
       "3                  Fnatic   Group C     3   9.759814     2\n",
       "4              G2 Esports   Group A     3  19.587505     1\n",
       "5                   Gen.G   Group C     3  37.674071     1\n",
       "6               JD Gaming   Group B     3  14.916648     2\n",
       "7              LGD Gaming   Group C     3  -2.128985     4\n",
       "8           Machi Esports   Group A     3  13.593080     2\n",
       "9               PSG Talon   Group B     3   6.538271     4\n",
       "10  Rogue (European Team)   Group B     3   7.190776     3\n",
       "11                 Suning   Group A     3   1.678228     4\n",
       "12            Team Liquid   Group A     3   5.960515     3\n",
       "13           Team SoloMid   Group C     3   3.683838     3\n",
       "14            Top Esports   Group D     3  11.615048     3\n",
       "15   Unicorns Of Love.CIS   Group D     3  20.847338     1"
      ]
     },
     "execution_count": 261,
     "metadata": {},
     "output_type": "execute_result"
    }
   ],
   "source": [
    "addStandings(GroupsData[2020])"
   ]
  },
  {
   "cell_type": "code",
   "execution_count": 264,
   "metadata": {},
   "outputs": [
    {
     "name": "stderr",
     "output_type": "stream",
     "text": [
      "E:\\Python\\Anaconda3\\lib\\site-packages\\pandas\\core\\indexing.py:671: SettingWithCopyWarning: \n",
      "A value is trying to be set on a copy of a slice from a DataFrame\n",
      "\n",
      "See the caveats in the documentation: https://pandas.pydata.org/pandas-docs/stable/user_guide/indexing.html#returning-a-view-versus-a-copy\n",
      "  self._setitem_with_indexer(indexer, value)\n"
     ]
    },
    {
     "data": {
      "text/html": [
       "<div>\n",
       "<style scoped>\n",
       "    .dataframe tbody tr th:only-of-type {\n",
       "        vertical-align: middle;\n",
       "    }\n",
       "\n",
       "    .dataframe tbody tr th {\n",
       "        vertical-align: top;\n",
       "    }\n",
       "\n",
       "    .dataframe thead th {\n",
       "        text-align: right;\n",
       "    }\n",
       "</style>\n",
       "<table border=\"1\" class=\"dataframe\">\n",
       "  <thead>\n",
       "    <tr style=\"text-align: right;\">\n",
       "      <th></th>\n",
       "      <th>Team</th>\n",
       "      <th>GroupName</th>\n",
       "      <th>Wins</th>\n",
       "      <th>Elo</th>\n",
       "      <th>Rank</th>\n",
       "    </tr>\n",
       "  </thead>\n",
       "  <tbody>\n",
       "    <tr>\n",
       "      <th>8</th>\n",
       "      <td>Griffin</td>\n",
       "      <td>Group A</td>\n",
       "      <td>6</td>\n",
       "      <td>37.097126</td>\n",
       "      <td>1</td>\n",
       "    </tr>\n",
       "    <tr>\n",
       "      <th>6</th>\n",
       "      <td>G2 Esports</td>\n",
       "      <td>Group A</td>\n",
       "      <td>5</td>\n",
       "      <td>21.481291</td>\n",
       "      <td>2</td>\n",
       "    </tr>\n",
       "    <tr>\n",
       "      <th>1</th>\n",
       "      <td>Cloud9</td>\n",
       "      <td>Group A</td>\n",
       "      <td>2</td>\n",
       "      <td>11.442398</td>\n",
       "      <td>3</td>\n",
       "    </tr>\n",
       "    <tr>\n",
       "      <th>9</th>\n",
       "      <td>Hong Kong Attitude</td>\n",
       "      <td>Group A</td>\n",
       "      <td>0</td>\n",
       "      <td>3.516345</td>\n",
       "      <td>4</td>\n",
       "    </tr>\n",
       "    <tr>\n",
       "      <th>5</th>\n",
       "      <td>FunPlus Phoenix</td>\n",
       "      <td>Group B</td>\n",
       "      <td>5</td>\n",
       "      <td>18.240158</td>\n",
       "      <td>1</td>\n",
       "    </tr>\n",
       "    <tr>\n",
       "      <th>14</th>\n",
       "      <td>Splyce</td>\n",
       "      <td>Group B</td>\n",
       "      <td>4</td>\n",
       "      <td>11.308333</td>\n",
       "      <td>2</td>\n",
       "    </tr>\n",
       "    <tr>\n",
       "      <th>11</th>\n",
       "      <td>J Team</td>\n",
       "      <td>Group B</td>\n",
       "      <td>3</td>\n",
       "      <td>5.652989</td>\n",
       "      <td>3</td>\n",
       "    </tr>\n",
       "    <tr>\n",
       "      <th>7</th>\n",
       "      <td>GAM Esports</td>\n",
       "      <td>Group B</td>\n",
       "      <td>1</td>\n",
       "      <td>2.018356</td>\n",
       "      <td>4</td>\n",
       "    </tr>\n",
       "    <tr>\n",
       "      <th>13</th>\n",
       "      <td>SK Telecom T1</td>\n",
       "      <td>Group C</td>\n",
       "      <td>5</td>\n",
       "      <td>36.906351</td>\n",
       "      <td>1</td>\n",
       "    </tr>\n",
       "    <tr>\n",
       "      <th>4</th>\n",
       "      <td>Fnatic</td>\n",
       "      <td>Group C</td>\n",
       "      <td>4</td>\n",
       "      <td>14.061228</td>\n",
       "      <td>2</td>\n",
       "    </tr>\n",
       "    <tr>\n",
       "      <th>12</th>\n",
       "      <td>Royal Never Give Up</td>\n",
       "      <td>Group C</td>\n",
       "      <td>3</td>\n",
       "      <td>8.691843</td>\n",
       "      <td>3</td>\n",
       "    </tr>\n",
       "    <tr>\n",
       "      <th>2</th>\n",
       "      <td>Clutch Gaming</td>\n",
       "      <td>Group C</td>\n",
       "      <td>0</td>\n",
       "      <td>-5.129687</td>\n",
       "      <td>4</td>\n",
       "    </tr>\n",
       "    <tr>\n",
       "      <th>3</th>\n",
       "      <td>DAMWON Gaming</td>\n",
       "      <td>Group D</td>\n",
       "      <td>5</td>\n",
       "      <td>24.621485</td>\n",
       "      <td>1</td>\n",
       "    </tr>\n",
       "    <tr>\n",
       "      <th>15</th>\n",
       "      <td>Team Liquid</td>\n",
       "      <td>Group D</td>\n",
       "      <td>3</td>\n",
       "      <td>14.566014</td>\n",
       "      <td>2</td>\n",
       "    </tr>\n",
       "    <tr>\n",
       "      <th>10</th>\n",
       "      <td>Invictus Gaming</td>\n",
       "      <td>Group D</td>\n",
       "      <td>4</td>\n",
       "      <td>9.157000</td>\n",
       "      <td>3</td>\n",
       "    </tr>\n",
       "    <tr>\n",
       "      <th>0</th>\n",
       "      <td>ahq eSports Club</td>\n",
       "      <td>Group D</td>\n",
       "      <td>0</td>\n",
       "      <td>1.317168</td>\n",
       "      <td>4</td>\n",
       "    </tr>\n",
       "  </tbody>\n",
       "</table>\n",
       "</div>"
      ],
      "text/plain": [
       "                   Team GroupName  Wins        Elo  Rank\n",
       "8               Griffin   Group A     6  37.097126     1\n",
       "6            G2 Esports   Group A     5  21.481291     2\n",
       "1                Cloud9   Group A     2  11.442398     3\n",
       "9    Hong Kong Attitude   Group A     0   3.516345     4\n",
       "5       FunPlus Phoenix   Group B     5  18.240158     1\n",
       "14               Splyce   Group B     4  11.308333     2\n",
       "11               J Team   Group B     3   5.652989     3\n",
       "7           GAM Esports   Group B     1   2.018356     4\n",
       "13        SK Telecom T1   Group C     5  36.906351     1\n",
       "4                Fnatic   Group C     4  14.061228     2\n",
       "12  Royal Never Give Up   Group C     3   8.691843     3\n",
       "2         Clutch Gaming   Group C     0  -5.129687     4\n",
       "3         DAMWON Gaming   Group D     5  24.621485     1\n",
       "15          Team Liquid   Group D     3  14.566014     2\n",
       "10      Invictus Gaming   Group D     4   9.157000     3\n",
       "0      ahq eSports Club   Group D     0   1.317168     4"
      ]
     },
     "execution_count": 264,
     "metadata": {},
     "output_type": "execute_result"
    }
   ],
   "source": [
    "addStandings(GroupsData[2019])"
   ]
  },
  {
   "cell_type": "code",
   "execution_count": null,
   "metadata": {},
   "outputs": [],
   "source": []
  }
 ],
 "metadata": {
  "kernelspec": {
   "display_name": "Python 3",
   "language": "python",
   "name": "python3"
  },
  "language_info": {
   "codemirror_mode": {
    "name": "ipython",
    "version": 3
   },
   "file_extension": ".py",
   "mimetype": "text/x-python",
   "name": "python",
   "nbconvert_exporter": "python",
   "pygments_lexer": "ipython3",
   "version": "3.7.7"
  }
 },
 "nbformat": 4,
 "nbformat_minor": 4
}
